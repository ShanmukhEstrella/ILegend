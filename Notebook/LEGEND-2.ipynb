{
 "cells": [
  {
   "cell_type": "code",
   "execution_count": 2,
   "id": "e2e7eddd-d57a-4901-b760-27f6c6f939be",
   "metadata": {},
   "outputs": [
    {
     "data": {
      "text/html": [
       "<div style='color:  green;'>Legend Features Activated in - 36.39s\n",
       "</div>"
      ]
     },
     "metadata": {},
     "output_type": "display_data"
    }
   ],
   "source": [
    "start_legend"
   ]
  },
  {
   "cell_type": "code",
   "execution_count": 2,
   "id": "b6a86e83-8d7b-4de0-98a5-c6c06173ef7a",
   "metadata": {},
   "outputs": [
    {
     "name": "stdout",
     "output_type": "stream",
     "text": [
      "Python code executed successfully.\n",
      "------Output-----\n",
      "   0\n",
      "1\n",
      "2\n",
      "3\n"
     ]
    }
   ],
   "source": [
    "%%python\n",
    "a = 4\n",
    "for i in range(a):\n",
    "    print(i)"
   ]
  },
  {
   "cell_type": "code",
   "execution_count": 1,
   "id": "bb5a3c10-a852-4231-ba84-858c2a5cc523",
   "metadata": {},
   "outputs": [
    {
     "data": {
      "text/html": [
       "<div style='color:  green;'>Total Time Taken - 35.52s\n",
       "</div>"
      ]
     },
     "metadata": {},
     "output_type": "display_data"
    },
    {
     "name": "stdout",
     "output_type": "stream",
     "text": [
      "Dropped tables: sample__sport, sample__tree, test3, test4"
     ]
    }
   ],
   "source": [
    "drop_all_tables local::DuckDuckConnection"
   ]
  },
  {
   "cell_type": "code",
   "execution_count": 1,
   "id": "4e4b8b7b-a5e0-49e8-8b87-9839666c124e",
   "metadata": {},
   "outputs": [
    {
     "data": {
      "text/html": [
       "<div style='color:  green;'>Total Time Taken - 94.64s\n",
       "</div>"
      ]
     },
     "metadata": {},
     "output_type": "display_data"
    },
    {
     "name": "stdout",
     "output_type": "stream",
     "text": [
      "Loaded into table: 'test11'. RowCount: 50"
     ]
    }
   ],
   "source": [
    "load /home/shannu/Documents/CSV/employee.csv local::DuckDuckConnection"
   ]
  },
  {
   "cell_type": "code",
   "execution_count": 1,
   "id": "51261438-e27f-4794-850e-da6ce55b22d8",
   "metadata": {},
   "outputs": [
    {
     "data": {
      "text/html": [
       "<div style='color:  green;'>Total Time Taken - 4.93s\n",
       "</div>"
      ]
     },
     "metadata": {},
     "output_type": "display_data"
    },
    {
     "data": {
      "text/html": [
       "<details open><summary><b>Database: local::DB</b></summary><div style='margin-left: 20px;'>\n",
       "<details><summary><b>Table: sample__sport</b></summary><div style='margin-left: 20px;'>\n",
       "<table border='1' style='border-collapse: collapse;'>\n",
       "<tr><th>Column Name</th><th>Type</th></tr>\n",
       "<tr><td>Athlete</td><td>VARCHAR(0)</td></tr>\n",
       "<tr><td>Age</td><td>BIGINT</td></tr>\n",
       "<tr><td>Country</td><td>VARCHAR(0)</td></tr>\n",
       "<tr><td>Year</td><td>BIGINT</td></tr>\n",
       "<tr><td>Date</td><td>DATE</td></tr>\n",
       "<tr><td>Sport</td><td>VARCHAR(0)</td></tr>\n",
       "<tr><td>Gold</td><td>BIGINT</td></tr>\n",
       "<tr><td>Silver</td><td>BIGINT</td></tr>\n",
       "<tr><td>Bronze</td><td>BIGINT</td></tr>\n",
       "</table></div></details>\n",
       "<details><summary><b>Table: sample__tree</b></summary><div style='margin-left: 20px;'>\n",
       "<table border='1' style='border-collapse: collapse;'>\n",
       "<tr><th>Column Name</th><th>Type</th></tr>\n",
       "<tr><td>city</td><td>VARCHAR(0)</td></tr>\n",
       "<tr><td>country</td><td>VARCHAR(0)</td></tr>\n",
       "<tr><td>year</td><td>BIGINT</td></tr>\n",
       "<tr><td>tree</td><td>BIGINT</td></tr>\n",
       "</table></div></details>\n",
       "<details><summary><b>Table: test3</b></summary><div style='margin-left: 20px;'>\n",
       "<table border='1' style='border-collapse: collapse;'>\n",
       "<tr><th>Column Name</th><th>Type</th></tr>\n",
       "<tr><td>EMPLOYEE_ID</td><td>BIGINT</td></tr>\n",
       "<tr><td>FIRST_NAME</td><td>VARCHAR(0)</td></tr>\n",
       "<tr><td>LAST_NAME</td><td>VARCHAR(0)</td></tr>\n",
       "<tr><td>EMAIL</td><td>VARCHAR(0)</td></tr>\n",
       "<tr><td>PHONE_NUMBER</td><td>VARCHAR(0)</td></tr>\n",
       "<tr><td>HIRE_DATE</td><td>VARCHAR(0)</td></tr>\n",
       "<tr><td>JOB_ID</td><td>VARCHAR(0)</td></tr>\n",
       "<tr><td>SALARY</td><td>BIGINT</td></tr>\n",
       "<tr><td>COMMISSION_PCT</td><td>BIGINT</td></tr>\n",
       "<tr><td>MANAGER_ID</td><td>BIGINT</td></tr>\n",
       "<tr><td>DEPARTMENT_ID</td><td>BIGINT</td></tr>\n",
       "</table></div></details>\n",
       "</div></details>"
      ]
     },
     "metadata": {},
     "output_type": "display_data"
    }
   ],
   "source": [
    "db local::DuckDuckConnection"
   ]
  },
  {
   "cell_type": "code",
   "execution_count": 6,
   "id": "7bd0f057-4292-4cde-82de-de8f3d7506f2",
   "metadata": {},
   "outputs": [
    {
     "name": "stdout",
     "output_type": "stream",
     "text": [
      "{\n",
      "  \"attributes\": [\n",
      "    \"EMPLOYEE_ID\",\n",
      "    \"FIRST_NAME\",\n",
      "    \"LAST_NAME\",\n",
      "    \"EMAIL\",\n",
      "    \"PHONE_NUMBER\",\n",
      "    \"HIRE_DATE\",\n",
      "    \"JOB_ID\",\n",
      "    \"SALARY\",\n",
      "    \"COMMISSION_PCT\",\n",
      "    \"MANAGER_ID\",\n",
      "    \"DEPARTMENT_ID\"\n",
      "  ]\n",
      "}"
     ]
    }
   ],
   "source": [
    "get_attributes local::DuckDuckConnection.test3"
   ]
  },
  {
   "cell_type": "code",
   "execution_count": 1,
   "id": "99424044-7c48-4c7c-a0d2-ab16563bc672",
   "metadata": {},
   "outputs": [
    {
     "data": {
      "text/html": [
       "<div style='color:  green;'>Total Time Taken - 5.82s\n",
       "</div>"
      ]
     },
     "metadata": {},
     "output_type": "display_data"
    },
    {
     "data": {
      "text/html": [
       "<div style='color: red;'>Error: Unexpected token</div>"
      ]
     },
     "metadata": {},
     "output_type": "display_data"
    }
   ],
   "source": [
    "#>{local::DuckDuckDatabase.test3}#->filter{x|$x.JOB_ID == 'FI_ACCOUNT'}->select(~[EMPLOYEE_ID, FIRST_NAME, LAST_NAME])->from(local::DuckDuckRuntime)"
   ]
  },
  {
   "cell_type": "code",
   "execution_count": 1,
   "id": "b1264258-4a61-456b-a47a-e43e95553282",
   "metadata": {},
   "outputs": [
    {
     "data": {
      "text/html": [
       "<div style='color:  green;'>Total Time Taken - 6.01s\n",
       "</div>"
      ]
     },
     "metadata": {},
     "output_type": "display_data"
    },
    {
     "data": {
      "text/html": [
       "\n",
       "                <link href=\"https://fonts.googleapis.com/css2?family=Inter:wght@400;600&display=swap\" rel=\"stylesheet\">\n",
       "                <style>\n",
       "                    .modern-table-wrapper {\n",
       "                        max-width: 700px;\n",
       "                        overflow-x: auto;\n",
       "                        margin-top: 20px;\n",
       "                        margin-left: 0;\n",
       "                        text-align: left;\n",
       "                        border-radius: 12px;\n",
       "                        box-shadow: 0 4px 12px rgba(0, 0, 0, 0.08);\n",
       "                        font-family: 'Inter', sans-serif;\n",
       "                    }\n",
       "                    .modern-table {\n",
       "                        border-collapse: collapse;\n",
       "                        width: 100%;\n",
       "                        font-size: 15px;\n",
       "                        background-color: #ffffff;\n",
       "                        border-radius: 12px;\n",
       "                        overflow: hidden;\n",
       "                    }\n",
       "                    .modern-table thead {\n",
       "                        background: linear-gradient(to right, #667eea, #764ba2);\n",
       "                        color: white;\n",
       "                    }\n",
       "                    .modern-table th, .modern-table td {\n",
       "                        padding: 12px 16px;\n",
       "                        text-align: left;\n",
       "                    }\n",
       "                    .modern-table tbody tr:nth-child(even) {\n",
       "                        background-color: #f8f9fa;\n",
       "                    }\n",
       "                    .modern-table tbody tr:hover {\n",
       "                        background-color: #e0f7fa;\n",
       "                        transition: background-color 0.3s ease;\n",
       "                    }\n",
       "                </style>\n",
       "\n",
       "                <div class=\"modern-table-wrapper\">\n",
       "                    <table class=\"modern-table\">\n",
       "                        <thead><tr><th>EMPLOYEE_ID</th><th>JOB_ID</th><th>SALARY</th></tr></thead>\n",
       "                        <tbody><tr><td>109</td><td>FI_ACCOUNT</td><td>9000</td></tr><tr><td>110</td><td>FI_ACCOUNT</td><td>8200</td></tr><tr><td>111</td><td>FI_ACCOUNT</td><td>7700</td></tr><tr><td>112</td><td>FI_ACCOUNT</td><td>7800</td></tr><tr><td>113</td><td>FI_ACCOUNT</td><td>6900</td></tr></tbody>\n",
       "                    </table>\n",
       "                </div>\n",
       "                "
      ],
      "text/plain": [
       "   EMPLOYEE_ID      JOB_ID  SALARY\n",
       "0          109  FI_ACCOUNT    9000\n",
       "1          110  FI_ACCOUNT    8200\n",
       "2          111  FI_ACCOUNT    7700\n",
       "3          112  FI_ACCOUNT    7800\n",
       "4          113  FI_ACCOUNT    6900"
      ]
     },
     "metadata": {},
     "output_type": "display_data"
    }
   ],
   "source": [
    "#>{local::DuckDuckDatabase.test3}#->filter(x|$x.JOB_ID == 'FI_ACCOUNT')->select(~[EMPLOYEE_ID, JOB_ID, SALARY])->from(local::DuckDuckRuntime)"
   ]
  },
  {
   "cell_type": "code",
   "execution_count": 2,
   "id": "89835424-0b8d-408e-bbf8-ae39382af316",
   "metadata": {},
   "outputs": [
    {
     "data": {
      "text/html": [
       "<div style='color:  green;'>Total Time Taken - 42.53s\n",
       "</div>"
      ]
     },
     "metadata": {},
     "output_type": "display_data"
    },
    {
     "data": {
      "text/html": [
       "\n",
       "                <link href=\"https://fonts.googleapis.com/css2?family=Inter:wght@400;600&display=swap\" rel=\"stylesheet\">\n",
       "                <style>\n",
       "                    .modern-table-wrapper {\n",
       "                        display: block;\n",
       "                        max-width: 700px;\n",
       "                        margin: 20px 0 0 0;\n",
       "                        padding: 0;\n",
       "                        text-align: left;\n",
       "                        border-radius: 12px;\n",
       "                        box-shadow: 0 4px 12px rgba(0, 0, 0, 0.08);\n",
       "                        font-family: 'Inter', sans-serif;\n",
       "                    }\n",
       "                    .modern-table {\n",
       "                        border-collapse: collapse;\n",
       "                        width: 100%;\n",
       "                        font-size: 15px;\n",
       "                        background-color: #ffffff;\n",
       "                        border-radius: 12px;\n",
       "                        overflow: hidden;\n",
       "                    }\n",
       "                    .modern-table thead {\n",
       "                        background: linear-gradient(to right, #667eea, #764ba2);\n",
       "                        color: white;\n",
       "                    }\n",
       "                    .modern-table th {\n",
       "                        padding: 12px 16px;\n",
       "                        text-align: left;\n",
       "                        font-weight: 600;\n",
       "                    }\n",
       "                    .modern-table td {\n",
       "                        padding: 12px 16px;\n",
       "                        text-align: left;\n",
       "                    }\n",
       "                    .modern-table tbody tr:nth-child(even) {\n",
       "                        background-color: #f8f9fa;\n",
       "                    }\n",
       "                    .modern-table tbody tr:hover {\n",
       "                        background-color: #e0f7fa;\n",
       "                        transition: background-color 0.3s ease;\n",
       "                    }\n",
       "                </style>\n",
       "\n",
       "                <div class=\"modern-table-wrapper\">\n",
       "                    <table class=\"modern-table\">\n",
       "                        <thead><tr><th>EMPLOYEE_ID</th><th>JOB_ID</th><th>SALARY</th></tr></thead>\n",
       "                        <tbody><tr><td>109</td><td>FI_ACCOUNT</td><td>9000</td></tr><tr><td>110</td><td>FI_ACCOUNT</td><td>8200</td></tr><tr><td>111</td><td>FI_ACCOUNT</td><td>7700</td></tr><tr><td>112</td><td>FI_ACCOUNT</td><td>7800</td></tr><tr><td>113</td><td>FI_ACCOUNT</td><td>6900</td></tr></tbody>\n",
       "                    </table>\n",
       "                </div>\n",
       "                "
      ],
      "text/plain": [
       "   EMPLOYEE_ID      JOB_ID  SALARY\n",
       "0          109  FI_ACCOUNT    9000\n",
       "1          110  FI_ACCOUNT    8200\n",
       "2          111  FI_ACCOUNT    7700\n",
       "3          112  FI_ACCOUNT    7800\n",
       "4          113  FI_ACCOUNT    6900"
      ]
     },
     "metadata": {},
     "output_type": "display_data"
    }
   ],
   "source": [
    "#>{local::DuckDuckDatabase.test3}#->filter(x|$x.JOB_ID == 'FI_ACCOUNT')->select(~[EMPLOYEE_ID, JOB_ID, SALARY])->from(local::DuckDuckRuntime) --save \"Result.csv\""
   ]
  },
  {
   "cell_type": "code",
   "execution_count": 3,
   "id": "6efd3abf-219d-4545-b5e3-f4c5037a8f38",
   "metadata": {},
   "outputs": [
    {
     "data": {
      "text/html": [
       "<div style='color:  green;'>Macro Established in - 4.83s\n",
       "</div>"
      ]
     },
     "metadata": {},
     "output_type": "display_data"
    },
    {
     "name": "stdout",
     "output_type": "stream",
     "text": [
      "Macro 'JOB_CHECKER' defined."
     ]
    }
   ],
   "source": [
    "macro JOB_CHECKER = $x.JOB_ID == 'FI_ACCOUNT'"
   ]
  },
  {
   "cell_type": "code",
   "execution_count": 10,
   "id": "25b2f73f-aa97-4a01-98cb-9fd40966b7e9",
   "metadata": {},
   "outputs": [
    {
     "data": {
      "text/html": [
       "<div style='color:  green;'>Macro Established in - 4.15s\n",
       "</div>"
      ]
     },
     "metadata": {},
     "output_type": "display_data"
    },
    {
     "name": "stdout",
     "output_type": "stream",
     "text": [
      "Macro 'MY_TABLE' defined."
     ]
    }
   ],
   "source": [
    "macro MY_TABLE = {local::DuckDuckDatabase.test3}"
   ]
  },
  {
   "cell_type": "code",
   "execution_count": 11,
   "id": "0ad4c5f8-97c3-4976-97ec-5d6ed149950d",
   "metadata": {},
   "outputs": [
    {
     "data": {
      "text/html": [
       "<div style='color:  green;'>Macro Established in - 3.96s\n",
       "</div>"
      ]
     },
     "metadata": {},
     "output_type": "display_data"
    },
    {
     "name": "stdout",
     "output_type": "stream",
     "text": [
      "Macro 'MY_RUNTIME' defined."
     ]
    }
   ],
   "source": [
    "macro MY_RUNTIME = from(local::DuckDuckRuntime)"
   ]
  },
  {
   "cell_type": "code",
   "execution_count": 3,
   "id": "8b6c4bea-aef7-4be7-9335-363108d64491",
   "metadata": {},
   "outputs": [
    {
     "data": {
      "text/html": [
       "<div style='color:  green;'>Total Time Taken - 4.86s\n",
       "</div>"
      ]
     },
     "metadata": {},
     "output_type": "display_data"
    },
    {
     "data": {
      "text/html": [
       "<p><em>No data available</em></p>"
      ],
      "text/plain": [
       "Empty DataFrame\n",
       "Columns: []\n",
       "Index: []"
      ]
     },
     "metadata": {},
     "output_type": "display_data"
    }
   ],
   "source": [
    "#>{local::DuckDuckDatabase.test3}#->filter(x|macro{JOB_CHECKER})->select(~[EMPLOYEE_ID])->from(local::DuckDuckRuntime)"
   ]
  },
  {
   "cell_type": "code",
   "execution_count": 4,
   "id": "e928dad9-30a9-4560-99bb-12bf3ef59ff4",
   "metadata": {},
   "outputs": [
    {
     "data": {
      "text/html": [
       "<div style='color:  green;'>Total Time Taken - 5.85s\n",
       "</div>"
      ]
     },
     "metadata": {},
     "output_type": "display_data"
    },
    {
     "data": {
      "text/html": [
       "<p><em>No data available</em></p>"
      ],
      "text/plain": [
       "Empty DataFrame\n",
       "Columns: []\n",
       "Index: []"
      ]
     },
     "metadata": {},
     "output_type": "display_data"
    }
   ],
   "source": [
    "#>{local::DuckDuckDatabase.test3}#->filter(x|macro{JOB_CHECKER})->select(~[EMPLOYEE_ID])->macro{MY_RUNTIME}"
   ]
  },
  {
   "cell_type": "code",
   "execution_count": 14,
   "id": "e4bb421b-9621-4116-91cb-ca44d098868c",
   "metadata": {},
   "outputs": [
    {
     "data": {
      "text/html": [
       "<div style='color:  green;'>Total Time Taken - 4.45s\n",
       "</div>"
      ]
     },
     "metadata": {},
     "output_type": "display_data"
    },
    {
     "data": {
      "text/html": [
       "<table border=\"1\" class=\"dataframe\">\n",
       "  <thead>\n",
       "    <tr style=\"text-align: right;\">\n",
       "      <th></th>\n",
       "      <th>EMPLOYEE_ID</th>\n",
       "    </tr>\n",
       "  </thead>\n",
       "  <tbody>\n",
       "    <tr>\n",
       "      <th>0</th>\n",
       "      <td>109</td>\n",
       "    </tr>\n",
       "    <tr>\n",
       "      <th>1</th>\n",
       "      <td>110</td>\n",
       "    </tr>\n",
       "    <tr>\n",
       "      <th>2</th>\n",
       "      <td>111</td>\n",
       "    </tr>\n",
       "    <tr>\n",
       "      <th>3</th>\n",
       "      <td>112</td>\n",
       "    </tr>\n",
       "    <tr>\n",
       "      <th>4</th>\n",
       "      <td>113</td>\n",
       "    </tr>\n",
       "  </tbody>\n",
       "</table>"
      ],
      "text/plain": [
       "   EMPLOYEE_ID\n",
       "0          109\n",
       "1          110\n",
       "2          111\n",
       "3          112\n",
       "4          113"
      ]
     },
     "metadata": {},
     "output_type": "display_data"
    }
   ],
   "source": [
    "#>macro{MY_TABLE}#->filter(x|macro{JOB_CHECKER})->select(~[EMPLOYEE_ID])->macro{MY_RUNTIME}"
   ]
  },
  {
   "cell_type": "code",
   "execution_count": 15,
   "id": "374e0ee6-4e6a-48b0-bebe-547a17f9d4a3",
   "metadata": {},
   "outputs": [
    {
     "data": {
      "text/html": [
       "<div style='color:  green;'>Macros fetched in- 4.55s\n",
       "</div>"
      ]
     },
     "metadata": {},
     "output_type": "display_data"
    },
    {
     "name": "stdout",
     "output_type": "stream",
     "text": [
      "Defined Macros:\n",
      "\n",
      "macro{MY_TABLE} = {local::DuckDuckDatabase.test3}\n",
      "\n",
      "macro{JOB_CHECKER} = $x.JOB_ID == 'FI_ACCOUNT'\n",
      "\n",
      "macro{MY_RUNTIME} = from(local::DuckDuckRuntime)\n",
      "\n"
     ]
    }
   ],
   "source": [
    "show_macros"
   ]
  },
  {
   "cell_type": "code",
   "execution_count": 16,
   "id": "b85ff216-b1c2-4151-b626-f7169ad8b8f8",
   "metadata": {},
   "outputs": [
    {
     "data": {
      "text/html": [
       "<div style='color:  green;'>Macro Established in - 3.72s\n",
       "</div>"
      ]
     },
     "metadata": {},
     "output_type": "display_data"
    },
    {
     "name": "stdout",
     "output_type": "stream",
     "text": [
      "Macro 'JOB_CHECKER' defined."
     ]
    }
   ],
   "source": [
    "macro JOB_CHECKER = $x.JOB_ID == 'FB_ACCOUNT'"
   ]
  },
  {
   "cell_type": "code",
   "execution_count": 17,
   "id": "89399352-c113-44a4-b5ef-dcc6bbcd6f44",
   "metadata": {},
   "outputs": [
    {
     "data": {
      "text/html": [
       "<div style='color:  green;'>Macros fetched in- 4.35s\n",
       "</div>"
      ]
     },
     "metadata": {},
     "output_type": "display_data"
    },
    {
     "name": "stdout",
     "output_type": "stream",
     "text": [
      "Defined Macros:\n",
      "\n",
      "macro{MY_TABLE} = {local::DuckDuckDatabase.test3}\n",
      "\n",
      "macro{JOB_CHECKER} = $x.JOB_ID == 'FB_ACCOUNT'\n",
      "\n",
      "macro{MY_RUNTIME} = from(local::DuckDuckRuntime)\n",
      "\n"
     ]
    }
   ],
   "source": [
    "show_macros"
   ]
  },
  {
   "cell_type": "code",
   "execution_count": 18,
   "id": "611c8101-03ce-413a-ace2-a5620f09ee86",
   "metadata": {},
   "outputs": [
    {
     "data": {
      "text/html": [
       "<div style='color:  green;'>Macro Established in - 3.74s\n",
       "</div>"
      ]
     },
     "metadata": {},
     "output_type": "display_data"
    },
    {
     "name": "stdout",
     "output_type": "stream",
     "text": [
      "Macro 'JOB_CHECKER' defined."
     ]
    }
   ],
   "source": [
    "macro JOB_CHECKER = $x.JOB_ID == 'FI_ACCOUNT'"
   ]
  },
  {
   "cell_type": "code",
   "execution_count": 19,
   "id": "1c9a6914-852f-4dc2-984d-2752b0481740",
   "metadata": {},
   "outputs": [
    {
     "data": {
      "text/html": [
       "<div style='color:  green;'>Macros fetched in- 4.19s\n",
       "</div>"
      ]
     },
     "metadata": {},
     "output_type": "display_data"
    },
    {
     "name": "stdout",
     "output_type": "stream",
     "text": [
      "Defined Macros:\n",
      "\n",
      "macro{MY_TABLE} = {local::DuckDuckDatabase.test3}\n",
      "\n",
      "macro{JOB_CHECKER} = $x.JOB_ID == 'FI_ACCOUNT'\n",
      "\n",
      "macro{MY_RUNTIME} = from(local::DuckDuckRuntime)\n",
      "\n"
     ]
    }
   ],
   "source": [
    "show_macros"
   ]
  },
  {
   "cell_type": "code",
   "execution_count": 20,
   "id": "e7a91cd7-b247-4397-af87-6699a7224cc0",
   "metadata": {},
   "outputs": [
    {
     "data": {
      "text/html": [
       "<div style='color:  green;'>Macros cleared in- 4.36s\n",
       "</div>"
      ]
     },
     "metadata": {},
     "output_type": "display_data"
    },
    {
     "name": "stdout",
     "output_type": "stream",
     "text": [
      "All macros cleared."
     ]
    }
   ],
   "source": [
    "clear_macros"
   ]
  },
  {
   "cell_type": "code",
   "execution_count": 21,
   "id": "9ebf5666-0f53-4432-b3d0-02b52d6e1c1d",
   "metadata": {},
   "outputs": [
    {
     "data": {
      "text/html": [
       "<div style='color:  green;'>Macros fetched in- 3.95s\n",
       "</div>"
      ]
     },
     "metadata": {},
     "output_type": "display_data"
    },
    {
     "name": "stdout",
     "output_type": "stream",
     "text": [
      "Defined Macros:\n",
      "\n"
     ]
    }
   ],
   "source": [
    "show_macros"
   ]
  },
  {
   "cell_type": "code",
   "execution_count": 23,
   "id": "af235e5f-5ab1-4790-a9c5-58f82f45f6db",
   "metadata": {},
   "outputs": [
    {
     "name": "stdout",
     "output_type": "stream",
     "text": [
      "{\n",
      "  \"tables\": [\n",
      "    \"sample__sport\",\n",
      "    \"sample__tree\",\n",
      "    \"test3\"\n",
      "  ]\n",
      "}"
     ]
    }
   ],
   "source": [
    "get_tables local::DuckDuckConnection"
   ]
  },
  {
   "cell_type": "code",
   "execution_count": null,
   "id": "9fa99682-05c1-4b0c-ac21-bcd2b8fcd296",
   "metadata": {},
   "outputs": [],
   "source": [
    "#>{local::DuckDuckDatabase.test3}# -> select(~["
   ]
  }
 ],
 "metadata": {
  "kernelspec": {
   "display_name": "Legend",
   "language": "legend",
   "name": "legend_kernel"
  },
  "language_info": {
   "codemirror_mode": "legend",
   "file_extension": ".lgd",
   "mimetype": "text/x-legend",
   "name": "legend"
  }
 },
 "nbformat": 4,
 "nbformat_minor": 5
}
