{
 "cells": [
  {
   "cell_type": "code",
   "execution_count": 1,
   "id": "e2e7eddd-d57a-4901-b760-27f6c6f939be",
   "metadata": {},
   "outputs": [
    {
     "data": {
      "text/html": [
       "<div style='color:  green;'>Legend Features Activated in - 7.48s\n",
       "</div>"
      ]
     },
     "metadata": {},
     "output_type": "display_data"
    }
   ],
   "source": [
    "start_legend"
   ]
  },
  {
   "cell_type": "code",
   "execution_count": 2,
   "id": "b6a86e83-8d7b-4de0-98a5-c6c06173ef7a",
   "metadata": {},
   "outputs": [
    {
     "name": "stdout",
     "output_type": "stream",
     "text": [
      "Python code executed successfully.\n",
      "------Output-----\n",
      "   0\n",
      "1\n",
      "2\n",
      "3\n"
     ]
    }
   ],
   "source": [
    "%%python\n",
    "a = 4\n",
    "for i in range(a):\n",
    "    print(i)"
   ]
  },
  {
   "cell_type": "code",
   "execution_count": 3,
   "id": "bb5a3c10-a852-4231-ba84-858c2a5cc523",
   "metadata": {},
   "outputs": [
    {
     "data": {
      "text/html": [
       "<div style='color:  green;'>Total Time Taken - 21.01s\n",
       "</div>"
      ]
     },
     "metadata": {},
     "output_type": "display_data"
    },
    {
     "name": "stdout",
     "output_type": "stream",
     "text": [
      "Dropped tables: sample__sport, sample__tree, test10, test11, test12, test13, test3, test4, test5, test6, test7, test8, test9"
     ]
    }
   ],
   "source": [
    "drop_all_tables local::DuckDuckConnection"
   ]
  },
  {
   "cell_type": "code",
   "execution_count": 5,
   "id": "4e4b8b7b-a5e0-49e8-8b87-9839666c124e",
   "metadata": {},
   "outputs": [
    {
     "data": {
      "text/html": [
       "<div style='color:  green;'>Total Time Taken - 10.48s\n",
       "</div>"
      ]
     },
     "metadata": {},
     "output_type": "display_data"
    },
    {
     "name": "stdout",
     "output_type": "stream",
     "text": [
      "Loaded into table: 'test6'. RowCount: 50"
     ]
    }
   ],
   "source": [
    "load /home/shannu/Documents/CSV/employee.csv local::DuckDuckConnection"
   ]
  },
  {
   "cell_type": "code",
   "execution_count": 5,
   "id": "51261438-e27f-4794-850e-da6ce55b22d8",
   "metadata": {},
   "outputs": [
    {
     "data": {
      "text/html": [
       "<div style='color:  green;'>Total Time Taken - 2.89s\n",
       "</div>"
      ]
     },
     "metadata": {},
     "output_type": "display_data"
    },
    {
     "data": {
      "text/html": [
       "<details open><summary><b>Database: local::DB</b></summary><div style='margin-left: 20px;'>\n",
       "<details><summary><b>Table: sample__sport</b></summary><div style='margin-left: 20px;'>\n",
       "<table border='1' style='border-collapse: collapse;'>\n",
       "<tr><th>Column Name</th><th>Type</th></tr>\n",
       "<tr><td>Athlete</td><td>VARCHAR(0)</td></tr>\n",
       "<tr><td>Age</td><td>BIGINT</td></tr>\n",
       "<tr><td>Country</td><td>VARCHAR(0)</td></tr>\n",
       "<tr><td>Year</td><td>BIGINT</td></tr>\n",
       "<tr><td>Date</td><td>DATE</td></tr>\n",
       "<tr><td>Sport</td><td>VARCHAR(0)</td></tr>\n",
       "<tr><td>Gold</td><td>BIGINT</td></tr>\n",
       "<tr><td>Silver</td><td>BIGINT</td></tr>\n",
       "<tr><td>Bronze</td><td>BIGINT</td></tr>\n",
       "</table></div></details>\n",
       "<details><summary><b>Table: sample__tree</b></summary><div style='margin-left: 20px;'>\n",
       "<table border='1' style='border-collapse: collapse;'>\n",
       "<tr><th>Column Name</th><th>Type</th></tr>\n",
       "<tr><td>city</td><td>VARCHAR(0)</td></tr>\n",
       "<tr><td>country</td><td>VARCHAR(0)</td></tr>\n",
       "<tr><td>year</td><td>BIGINT</td></tr>\n",
       "<tr><td>tree</td><td>BIGINT</td></tr>\n",
       "</table></div></details>\n",
       "<details><summary><b>Table: test3</b></summary><div style='margin-left: 20px;'>\n",
       "<table border='1' style='border-collapse: collapse;'>\n",
       "<tr><th>Column Name</th><th>Type</th></tr>\n",
       "<tr><td>EMPLOYEE_ID</td><td>BIGINT</td></tr>\n",
       "<tr><td>FIRST_NAME</td><td>VARCHAR(0)</td></tr>\n",
       "<tr><td>LAST_NAME</td><td>VARCHAR(0)</td></tr>\n",
       "<tr><td>EMAIL</td><td>VARCHAR(0)</td></tr>\n",
       "<tr><td>PHONE_NUMBER</td><td>VARCHAR(0)</td></tr>\n",
       "<tr><td>HIRE_DATE</td><td>VARCHAR(0)</td></tr>\n",
       "<tr><td>JOB_ID</td><td>VARCHAR(0)</td></tr>\n",
       "<tr><td>SALARY</td><td>BIGINT</td></tr>\n",
       "<tr><td>COMMISSION_PCT</td><td>BIGINT</td></tr>\n",
       "<tr><td>MANAGER_ID</td><td>BIGINT</td></tr>\n",
       "<tr><td>DEPARTMENT_ID</td><td>BIGINT</td></tr>\n",
       "</table></div></details>\n",
       "</div></details>"
      ]
     },
     "metadata": {},
     "output_type": "display_data"
    }
   ],
   "source": [
    "db local::DuckDuckConnection"
   ]
  },
  {
   "cell_type": "code",
   "execution_count": 1,
   "id": "af235e5f-5ab1-4790-a9c5-58f82f45f6db",
   "metadata": {},
   "outputs": [
    {
     "data": {
      "text/html": [
       "<div style='color:  green;'>Tables Fetched in - 1.66s\n",
       "</div>"
      ]
     },
     "metadata": {},
     "output_type": "display_data"
    },
    {
     "name": "stdout",
     "output_type": "stream",
     "text": [
      "sample__sport\n",
      "sample__tree\n",
      "test10\n",
      "test11\n",
      "test3\n",
      "test4\n",
      "test5\n",
      "test6\n",
      "test7\n",
      "test8\n",
      "test9\n"
     ]
    }
   ],
   "source": [
    "get_tables local::DuckDuckConnection"
   ]
  },
  {
   "cell_type": "code",
   "execution_count": 6,
   "id": "7bd0f057-4292-4cde-82de-de8f3d7506f2",
   "metadata": {},
   "outputs": [
    {
     "data": {
      "text/html": [
       "<div style='color:  green;'>Attributes Fetched in - 3.06s\n",
       "</div>"
      ]
     },
     "metadata": {},
     "output_type": "display_data"
    },
    {
     "name": "stdout",
     "output_type": "stream",
     "text": [
      "EMPLOYEE_ID\n",
      "FIRST_NAME\n",
      "LAST_NAME\n",
      "EMAIL\n",
      "PHONE_NUMBER\n",
      "HIRE_DATE\n",
      "JOB_ID\n",
      "SALARY\n",
      "COMMISSION_PCT\n",
      "MANAGER_ID\n",
      "DEPARTMENT_ID\n"
     ]
    }
   ],
   "source": [
    "get_attributes local::DuckDuckConnection.test3"
   ]
  },
  {
   "cell_type": "code",
   "execution_count": 2,
   "id": "6efd3abf-219d-4545-b5e3-f4c5037a8f38",
   "metadata": {},
   "outputs": [
    {
     "data": {
      "text/html": [
       "<div style='color:  green;'>Macro Established in - 4.34s\n",
       "</div>"
      ]
     },
     "metadata": {},
     "output_type": "display_data"
    },
    {
     "name": "stdout",
     "output_type": "stream",
     "text": [
      "Macro 'JOB_CHECKER' defined."
     ]
    }
   ],
   "source": [
    "macro JOB_CHECKER = $x.JOB_ID == 'FI_ACCOUNT'"
   ]
  },
  {
   "cell_type": "code",
   "execution_count": 3,
   "id": "25b2f73f-aa97-4a01-98cb-9fd40966b7e9",
   "metadata": {},
   "outputs": [
    {
     "data": {
      "text/html": [
       "<div style='color:  green;'>Macro Established in - 4.99s\n",
       "</div>"
      ]
     },
     "metadata": {},
     "output_type": "display_data"
    },
    {
     "name": "stdout",
     "output_type": "stream",
     "text": [
      "Macro 'MY_TABLE' defined."
     ]
    }
   ],
   "source": [
    "macro MY_TABLE = {local::DuckDuckDatabase.test3}"
   ]
  },
  {
   "cell_type": "code",
   "execution_count": 4,
   "id": "0ad4c5f8-97c3-4976-97ec-5d6ed149950d",
   "metadata": {},
   "outputs": [
    {
     "data": {
      "text/html": [
       "<div style='color:  green;'>Macro Established in - 4.28s\n",
       "</div>"
      ]
     },
     "metadata": {},
     "output_type": "display_data"
    },
    {
     "name": "stdout",
     "output_type": "stream",
     "text": [
      "Macro 'MY_RUNTIME' defined."
     ]
    }
   ],
   "source": [
    "macro MY_RUNTIME = from(local::DuckDuckRuntime)"
   ]
  },
  {
   "cell_type": "code",
   "execution_count": 5,
   "id": "8b6c4bea-aef7-4be7-9335-363108d64491",
   "metadata": {},
   "outputs": [
    {
     "data": {
      "text/html": [
       "<div style='color:  green;'>Total Time Taken - 4.70s\n",
       "</div>"
      ]
     },
     "metadata": {},
     "output_type": "display_data"
    },
    {
     "data": {
      "text/html": [
       "\n",
       "                <link href=\"https://fonts.googleapis.com/css2?family=Inter:wght@400;600&display=swap\" rel=\"stylesheet\">\n",
       "                <style>\n",
       "                    .pretty-table-wrapper {\n",
       "                        font-family: 'Inter', sans-serif;\n",
       "                        font-size: 14px;\n",
       "                        margin: 20px 0 0 0;\n",
       "                        max-width: 800px;\n",
       "                        overflow-x: auto;\n",
       "                    }\n",
       "\n",
       "                    .pretty-table {\n",
       "                        border-collapse: separate;\n",
       "                        border-spacing: 0;\n",
       "                        width: 100%;\n",
       "                        border-radius: 12px;\n",
       "                        overflow: hidden;\n",
       "                        color: var(--text-color);\n",
       "                        background-color: var(--bg-color);\n",
       "                    }\n",
       "\n",
       "                    .pretty-table thead {\n",
       "                        background-color: var(--header-bg);\n",
       "                    }\n",
       "\n",
       "                    .pretty-table th {\n",
       "                        padding: 10px 14px;\n",
       "                        text-align: left;\n",
       "                        font-weight: 600;\n",
       "                        border-bottom: 1px solid var(--border-color);\n",
       "                        border-top-left-radius: 8px;\n",
       "                        border-top-right-radius: 8px;\n",
       "                        color: var(--header-text);\n",
       "                        white-space: nowrap;\n",
       "                    }\n",
       "\n",
       "                    .pretty-table td {\n",
       "                        padding: 10px 14px;\n",
       "                        border-bottom: 1px solid var(--border-color);\n",
       "                        white-space: nowrap;\n",
       "                    }\n",
       "\n",
       "                    .pretty-table tbody tr:hover {\n",
       "                        background-color: var(--hover-bg);\n",
       "                        transition: background-color 0.3s ease;\n",
       "                    }\n",
       "\n",
       "                    :root {\n",
       "                        --bg-color: #ffffff;\n",
       "                        --text-color: #1a1a1a;\n",
       "                        --header-bg: #e3f2fd;\n",
       "                        --header-text: #0d47a1;\n",
       "                        --border-color: #d0d0d0;\n",
       "                        --hover-bg: #dfefff;\n",
       "                    }\n",
       "\n",
       "                    @media (prefers-color-scheme: dark) {\n",
       "                        :root {\n",
       "                            --bg-color: #1e1e1e;\n",
       "                            --text-color: #f0f0f0;\n",
       "                            --header-bg: #223a5f;\n",
       "                            --header-text: #bbdefb;\n",
       "                            --border-color: #444;\n",
       "                            --hover-bg: #2f4f73;\n",
       "                        }\n",
       "                    }\n",
       "                </style>\n",
       "\n",
       "                <div class=\"pretty-table-wrapper\">\n",
       "                    <table class=\"pretty-table\">\n",
       "                        <thead><tr><th>EMPLOYEE_ID</th></tr></thead>\n",
       "                        <tbody><tr><td>109</td></tr><tr><td>110</td></tr><tr><td>111</td></tr><tr><td>112</td></tr><tr><td>113</td></tr></tbody>\n",
       "                    </table>\n",
       "                </div>\n",
       "                "
      ],
      "text/plain": [
       "   EMPLOYEE_ID\n",
       "0          109\n",
       "1          110\n",
       "2          111\n",
       "3          112\n",
       "4          113"
      ]
     },
     "metadata": {},
     "output_type": "display_data"
    }
   ],
   "source": [
    "#>{local::DuckDuckDatabase.test3}#->filter(x|macro{JOB_CHECKER})->select(~[EMPLOYEE_ID])->from(local::DuckDuckRuntime)"
   ]
  },
  {
   "cell_type": "code",
   "execution_count": 3,
   "id": "e928dad9-30a9-4560-99bb-12bf3ef59ff4",
   "metadata": {},
   "outputs": [
    {
     "data": {
      "text/html": [
       "<div style='color:  green;'>Total Time Taken - 1.22s\n",
       "</div>"
      ]
     },
     "metadata": {},
     "output_type": "display_data"
    },
    {
     "data": {
      "text/html": [
       "<div style='color: red;'>Error: Unexpected token '{'. Valid alternatives: [',', ')']</div>"
      ]
     },
     "metadata": {},
     "output_type": "display_data"
    }
   ],
   "source": [
    "#>{local::DuckDuckDatabase.test3}#->filter(x|macro{JOB_CHECKER})->select(~[EMPLOYEE_ID])->macro{MY_RUNTIME}"
   ]
  },
  {
   "cell_type": "code",
   "execution_count": 7,
   "id": "e4bb421b-9621-4116-91cb-ca44d098868c",
   "metadata": {},
   "outputs": [
    {
     "data": {
      "text/html": [
       "<div style='color:  green;'>Total Time Taken - 5.24s\n",
       "</div>"
      ]
     },
     "metadata": {},
     "output_type": "display_data"
    },
    {
     "data": {
      "text/html": [
       "\n",
       "                <link href=\"https://fonts.googleapis.com/css2?family=Inter:wght@400;600&display=swap\" rel=\"stylesheet\">\n",
       "                <style>\n",
       "                    .pretty-table-wrapper {\n",
       "                        font-family: 'Inter', sans-serif;\n",
       "                        font-size: 14px;\n",
       "                        margin: 20px 0 0 0;\n",
       "                        max-width: 800px;\n",
       "                        overflow-x: auto;\n",
       "                    }\n",
       "\n",
       "                    .pretty-table {\n",
       "                        border-collapse: separate;\n",
       "                        border-spacing: 0;\n",
       "                        width: 100%;\n",
       "                        border-radius: 12px;\n",
       "                        overflow: hidden;\n",
       "                        color: var(--text-color);\n",
       "                        background-color: var(--bg-color);\n",
       "                    }\n",
       "\n",
       "                    .pretty-table thead {\n",
       "                        background-color: var(--header-bg);\n",
       "                    }\n",
       "\n",
       "                    .pretty-table th {\n",
       "                        padding: 10px 14px;\n",
       "                        text-align: left;\n",
       "                        font-weight: 600;\n",
       "                        border-bottom: 1px solid var(--border-color);\n",
       "                        border-top-left-radius: 8px;\n",
       "                        border-top-right-radius: 8px;\n",
       "                        color: var(--header-text);\n",
       "                        white-space: nowrap;\n",
       "                    }\n",
       "\n",
       "                    .pretty-table td {\n",
       "                        padding: 10px 14px;\n",
       "                        border-bottom: 1px solid var(--border-color);\n",
       "                        white-space: nowrap;\n",
       "                    }\n",
       "\n",
       "                    .pretty-table tbody tr:hover {\n",
       "                        background-color: var(--hover-bg);\n",
       "                        transition: background-color 0.3s ease;\n",
       "                    }\n",
       "\n",
       "                    :root {\n",
       "                        --bg-color: #ffffff;\n",
       "                        --text-color: #1a1a1a;\n",
       "                        --header-bg: #e3f2fd;\n",
       "                        --header-text: #0d47a1;\n",
       "                        --border-color: #d0d0d0;\n",
       "                        --hover-bg: #dfefff;\n",
       "                    }\n",
       "\n",
       "                    @media (prefers-color-scheme: dark) {\n",
       "                        :root {\n",
       "                            --bg-color: #1e1e1e;\n",
       "                            --text-color: #f0f0f0;\n",
       "                            --header-bg: #223a5f;\n",
       "                            --header-text: #bbdefb;\n",
       "                            --border-color: #444;\n",
       "                            --hover-bg: #2f4f73;\n",
       "                        }\n",
       "                    }\n",
       "                </style>\n",
       "\n",
       "                <div class=\"pretty-table-wrapper\">\n",
       "                    <table class=\"pretty-table\">\n",
       "                        <thead><tr><th>EMPLOYEE_ID</th></tr></thead>\n",
       "                        <tbody><tr><td>109</td></tr><tr><td>110</td></tr><tr><td>111</td></tr><tr><td>112</td></tr><tr><td>113</td></tr></tbody>\n",
       "                    </table>\n",
       "                </div>\n",
       "                "
      ],
      "text/plain": [
       "   EMPLOYEE_ID\n",
       "0          109\n",
       "1          110\n",
       "2          111\n",
       "3          112\n",
       "4          113"
      ]
     },
     "metadata": {},
     "output_type": "display_data"
    }
   ],
   "source": [
    "#>macro{MY_TABLE}#->filter(x|macro{JOB_CHECKER})->select(~[EMPLOYEE_ID])->macro{MY_RUNTIME}"
   ]
  },
  {
   "cell_type": "code",
   "execution_count": 8,
   "id": "374e0ee6-4e6a-48b0-bebe-547a17f9d4a3",
   "metadata": {},
   "outputs": [
    {
     "data": {
      "text/html": [
       "<div style='color:  green;'>Macros fetched in- 4.22s\n",
       "</div>"
      ]
     },
     "metadata": {},
     "output_type": "display_data"
    },
    {
     "name": "stdout",
     "output_type": "stream",
     "text": [
      "Defined Macros:\n",
      "\n",
      "macro{MY_TABLE} = {local::DuckDuckDatabase.test3}\n",
      "\n",
      "macro{JOB_CHECKER} = $x.JOB_ID == 'FI_ACCOUNT'\n",
      "\n",
      "macro{MY_RUNTIME} = from(local::DuckDuckRuntime)\n",
      "\n"
     ]
    }
   ],
   "source": [
    "show_macros"
   ]
  },
  {
   "cell_type": "code",
   "execution_count": 9,
   "id": "b85ff216-b1c2-4151-b626-f7169ad8b8f8",
   "metadata": {},
   "outputs": [
    {
     "data": {
      "text/html": [
       "<div style='color:  green;'>Macro Established in - 4.66s\n",
       "</div>"
      ]
     },
     "metadata": {},
     "output_type": "display_data"
    },
    {
     "name": "stdout",
     "output_type": "stream",
     "text": [
      "Macro 'JOB_CHECKER' defined."
     ]
    }
   ],
   "source": [
    "macro JOB_CHECKER = $x.JOB_ID == 'FB_ACCOUNT'"
   ]
  },
  {
   "cell_type": "code",
   "execution_count": 10,
   "id": "89399352-c113-44a4-b5ef-dcc6bbcd6f44",
   "metadata": {},
   "outputs": [
    {
     "data": {
      "text/html": [
       "<div style='color:  green;'>Macros fetched in- 4.41s\n",
       "</div>"
      ]
     },
     "metadata": {},
     "output_type": "display_data"
    },
    {
     "name": "stdout",
     "output_type": "stream",
     "text": [
      "Defined Macros:\n",
      "\n",
      "macro{MY_TABLE} = {local::DuckDuckDatabase.test3}\n",
      "\n",
      "macro{JOB_CHECKER} = $x.JOB_ID == 'FB_ACCOUNT'\n",
      "\n",
      "macro{MY_RUNTIME} = from(local::DuckDuckRuntime)\n",
      "\n"
     ]
    }
   ],
   "source": [
    "show_macros"
   ]
  },
  {
   "cell_type": "code",
   "execution_count": 11,
   "id": "611c8101-03ce-413a-ace2-a5620f09ee86",
   "metadata": {},
   "outputs": [
    {
     "data": {
      "text/html": [
       "<div style='color:  green;'>Macro Established in - 4.31s\n",
       "</div>"
      ]
     },
     "metadata": {},
     "output_type": "display_data"
    },
    {
     "name": "stdout",
     "output_type": "stream",
     "text": [
      "Macro 'JOB_CHECKER' defined."
     ]
    }
   ],
   "source": [
    "macro JOB_CHECKER = $x.JOB_ID == 'FI_ACCOUNT'"
   ]
  },
  {
   "cell_type": "code",
   "execution_count": 12,
   "id": "1c9a6914-852f-4dc2-984d-2752b0481740",
   "metadata": {},
   "outputs": [
    {
     "data": {
      "text/html": [
       "<div style='color:  green;'>Macros fetched in- 4.69s\n",
       "</div>"
      ]
     },
     "metadata": {},
     "output_type": "display_data"
    },
    {
     "name": "stdout",
     "output_type": "stream",
     "text": [
      "Defined Macros:\n",
      "\n",
      "macro{MY_TABLE} = {local::DuckDuckDatabase.test3}\n",
      "\n",
      "macro{JOB_CHECKER} = $x.JOB_ID == 'FI_ACCOUNT'\n",
      "\n",
      "macro{MY_RUNTIME} = from(local::DuckDuckRuntime)\n",
      "\n"
     ]
    }
   ],
   "source": [
    "show_macros"
   ]
  },
  {
   "cell_type": "code",
   "execution_count": 13,
   "id": "e7a91cd7-b247-4397-af87-6699a7224cc0",
   "metadata": {},
   "outputs": [
    {
     "data": {
      "text/html": [
       "<div style='color:  green;'>Macros cleared in- 3.95s\n",
       "</div>"
      ]
     },
     "metadata": {},
     "output_type": "display_data"
    },
    {
     "name": "stdout",
     "output_type": "stream",
     "text": [
      "All macros cleared."
     ]
    }
   ],
   "source": [
    "clear_macros"
   ]
  },
  {
   "cell_type": "code",
   "execution_count": 14,
   "id": "9ebf5666-0f53-4432-b3d0-02b52d6e1c1d",
   "metadata": {},
   "outputs": [
    {
     "data": {
      "text/html": [
       "<div style='color:  green;'>Macros fetched in- 4.85s\n",
       "</div>"
      ]
     },
     "metadata": {},
     "output_type": "display_data"
    },
    {
     "name": "stdout",
     "output_type": "stream",
     "text": [
      "Defined Macros:\n",
      "\n"
     ]
    }
   ],
   "source": [
    "show_macros"
   ]
  }
 ],
 "metadata": {
  "kernelspec": {
   "display_name": "Legend",
   "language": "legend",
   "name": "legend_kernel"
  },
  "language_info": {
   "codemirror_mode": "legend",
   "file_extension": ".lgd",
   "mimetype": "text/x-legend",
   "name": "legend"
  }
 },
 "nbformat": 4,
 "nbformat_minor": 5
}
