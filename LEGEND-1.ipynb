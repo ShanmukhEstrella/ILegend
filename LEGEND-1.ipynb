{
 "cells": [
  {
   "cell_type": "code",
   "execution_count": 1,
   "id": "34c22620-1de4-405c-a426-2be076fb9066",
   "metadata": {},
   "outputs": [
    {
     "name": "stdout",
     "output_type": "stream",
     "text": [
      "Hello Shanmukh! Welcome to the Pure Kernel."
     ]
    }
   ],
   "source": [
    "%start Shanmukh"
   ]
  },
  {
   "cell_type": "code",
   "execution_count": 2,
   "id": "d046549f-e6ec-4c23-95ac-84257ad347ac",
   "metadata": {},
   "outputs": [
    {
     "name": "stdout",
     "output_type": "stream",
     "text": [
      "SHANMUKH RAJ MSS"
     ]
    }
   ],
   "source": [
    "%%uppercase\n",
    "Shanmukh raj Mss"
   ]
  },
  {
   "cell_type": "code",
   "execution_count": 3,
   "id": "0b5c5843-e8d7-460f-82eb-6f7eef2efd85",
   "metadata": {},
   "outputs": [
    {
     "name": "stdout",
     "output_type": "stream",
     "text": [
      "shanmukh raj mss"
     ]
    }
   ],
   "source": [
    "%%lowercase\n",
    "SHANMUKH raj MSS"
   ]
  },
  {
   "cell_type": "code",
   "execution_count": 4,
   "id": "aa2bbf63-6691-4237-af50-cb2685551178",
   "metadata": {},
   "outputs": [
    {
     "name": "stdout",
     "output_type": "stream",
     "text": [
      "2025-06-22 23:22:11"
     ]
    }
   ],
   "source": [
    "%date"
   ]
  },
  {
   "cell_type": "code",
   "execution_count": 5,
   "id": "7011ee55-89e3-4fed-82c7-6a7ebe8e7db2",
   "metadata": {},
   "outputs": [
    {
     "name": "stdout",
     "output_type": "stream",
     "text": [
      "Python code executed successfully.\n",
      "------Output-----\n",
      "   10\n"
     ]
    }
   ],
   "source": [
    "%%python\n",
    "a = 4\n",
    "b = 6\n",
    "print(a+b)"
   ]
  },
  {
   "cell_type": "code",
   "execution_count": 6,
   "id": "4eca7c7e-49ce-4809-9e7f-7c510928bbe1",
   "metadata": {},
   "outputs": [
    {
     "name": "stdout",
     "output_type": "stream",
     "text": [
      "Python code executed successfully.\n",
      "------Output-----\n",
      "   a + b is equal to  10\n",
      "a is equal to  4\n",
      "b is equal to  6\n"
     ]
    }
   ],
   "source": [
    "%%python\n",
    "a = 4\n",
    "b = 6\n",
    "print('a + b is equal to ', a+b)\n",
    "print('a is equal to ', a)\n",
    "print('b is equal to ', b)"
   ]
  },
  {
   "cell_type": "code",
   "execution_count": 7,
   "id": "ad3b4d06-09a1-41cf-80c5-add7e0177e0d",
   "metadata": {},
   "outputs": [
    {
     "name": "stdout",
     "output_type": "stream",
     "text": [
      "{\n",
      "  \"_type\": \"query\",\n",
      "  \"orderBy\": [],\n",
      "  \"queryBody\": {\n",
      "    \"_type\": \"querySpecification\",\n",
      "    \"from\": [\n",
      "      {\n",
      "        \"_type\": \"table\",\n",
      "        \"name\": {\n",
      "          \"parts\": [\n",
      "            \"employees\"\n",
      "          ]\n",
      "        }\n",
      "      }\n",
      "    ],\n",
      "    \"groupBy\": [],\n",
      "    \"orderBy\": [],\n",
      "    \"select\": {\n",
      "      \"_type\": \"select\",\n",
      "      \"distinct\": false,\n",
      "      \"selectItems\": [\n",
      "        {\n",
      "          \"_type\": \"singleColumn\",\n",
      "          \"expression\": {\n",
      "            \"_type\": \"qualifiedNameReference\",\n",
      "            \"name\": {\n",
      "              \"parts\": [\n",
      "                \"name\"\n",
      "              ]\n",
      "            }\n",
      "          }\n",
      "        }\n",
      "      ]\n",
      "    },\n",
      "    \"where\": {\n",
      "      \"_type\": \"comparisonExpression\",\n",
      "      \"left\": {\n",
      "        \"_type\": \"qualifiedNameReference\",\n",
      "        \"name\": {\n",
      "          \"parts\": [\n",
      "            \"salary\"\n",
      "          ]\n",
      "        }\n",
      "      },\n",
      "      \"operator\": \"GREATER_THAN\",\n",
      "      \"right\": {\n",
      "        \"_type\": \"integerLiteral\",\n",
      "        \"value\": 50000\n",
      "      }\n",
      "    }\n",
      "  }\n",
      "}"
     ]
    }
   ],
   "source": [
    "sql_to_json_line\n",
    "SELECT name from employees WHERE salary > 50000;"
   ]
  },
  {
   "cell_type": "code",
   "execution_count": 8,
   "id": "7108dbea-0ea7-44a8-9343-ce9442a98853",
   "metadata": {},
   "outputs": [
    {
     "name": "stdout",
     "output_type": "stream",
     "text": [
      "{\n",
      "  \"errors\": {},\n",
      "  \"result\": {\n",
      "    \"query1\": {\n",
      "      \"_type\": \"query\",\n",
      "      \"orderBy\": [],\n",
      "      \"queryBody\": {\n",
      "        \"_type\": \"querySpecification\",\n",
      "        \"from\": [\n",
      "          {\n",
      "            \"_type\": \"table\",\n",
      "            \"name\": {\n",
      "              \"parts\": [\n",
      "                \"customers\"\n",
      "              ]\n",
      "            }\n",
      "          }\n",
      "        ],\n",
      "        \"groupBy\": [],\n",
      "        \"orderBy\": [],\n",
      "        \"select\": {\n",
      "          \"_type\": \"select\",\n",
      "          \"distinct\": false,\n",
      "          \"selectItems\": [\n",
      "            {\n",
      "              \"_type\": \"allColumns\"\n",
      "            }\n",
      "          ]\n",
      "        }\n",
      "      }\n",
      "    },\n",
      "    \"query2\": {\n",
      "      \"_type\": \"query\",\n",
      "      \"orderBy\": [],\n",
      "      \"queryBody\": {\n",
      "        \"_type\": \"querySpecification\",\n",
      "        \"from\": [\n",
      "          {\n",
      "            \"_type\": \"table\",\n",
      "            \"name\": {\n",
      "              \"parts\": [\n",
      "                \"products\"\n",
      "              ]\n",
      "            }\n",
      "          }\n",
      "        ],\n",
      "        \"groupBy\": [],\n",
      "        \"orderBy\": [],\n",
      "        \"select\": {\n",
      "          \"_type\": \"select\",\n",
      "          \"distinct\": false,\n",
      "          \"selectItems\": [\n",
      "            {\n",
      "              \"_type\": \"singleColumn\",\n",
      "              \"expression\": {\n",
      "                \"_type\": \"qualifiedNameReference\",\n",
      "                \"name\": {\n",
      "                  \"parts\": [\n",
      "                    \"id\"\n",
      "                  ]\n",
      "                }\n",
      "              }\n",
      "            },\n",
      "            {\n",
      "              \"_type\": \"singleColumn\",\n",
      "              \"expression\": {\n",
      "                \"_type\": \"qualifiedNameReference\",\n",
      "                \"name\": {\n",
      "                  \"parts\": [\n",
      "                    \"name\"\n",
      "                  ]\n",
      "                }\n",
      "              }\n",
      "            }\n",
      "          ]\n",
      "        }\n",
      "      }\n",
      "    }\n",
      "  }\n",
      "}"
     ]
    }
   ],
   "source": [
    "sql_to_json_batch\n",
    "SELECT * FROM customers;\n",
    "SELECT id, name FROM products"
   ]
  },
  {
   "cell_type": "code",
   "execution_count": 9,
   "id": "f9a3be43-1cff-4fce-b69a-8fc4d8854e17",
   "metadata": {},
   "outputs": [
    {
     "name": "stdout",
     "output_type": "stream",
     "text": [
      "-----------------Table Created-----------------\n",
      "-----Ware House: mywarehouse-----\n",
      "-----DataBase: mydatabase-----\n",
      "-----Schema: myschema-----\n",
      "-----Columns-----\n",
      "id[int] is a Primary Key\n",
      "name[string]\n"
     ]
    }
   ],
   "source": [
    "create mywarehouse::mydatabase::myschema::mytable(id [int] [primarykey], name [string])"
   ]
  },
  {
   "cell_type": "code",
   "execution_count": 10,
   "id": "78d9a676-ffda-4999-9d5a-f1d3d9f79881",
   "metadata": {},
   "outputs": [
    {
     "name": "stdout",
     "output_type": "stream",
     "text": [
      "-----------------Table Created-----------------\n",
      "-----Ware House: warehouse1-----\n",
      "-----DataBase: db1-----\n",
      "-----Schema: schema1-----\n",
      "-----Columns-----\n",
      "id[int] is a Primary Key\n",
      "name[string]\n",
      "age[int]\n",
      "salary[float]\n",
      "isActive[boolean]\n"
     ]
    }
   ],
   "source": [
    "create warehouse1::db1::schema1::employee(id [int] [primarykey], name [string], age [int], salary [float], isActive [boolean])"
   ]
  },
  {
   "cell_type": "code",
   "execution_count": 11,
   "id": "35054763-acf6-4aa5-ad36-a4004b7c26cf",
   "metadata": {},
   "outputs": [
    {
     "name": "stdout",
     "output_type": "stream",
     "text": [
      "-----------------Table Created-----------------\n",
      "-----Ware House: warehouse1-----\n",
      "-----DataBase: db1-----\n",
      "-----Schema: schema1-----\n",
      "-----Columns-----\n",
      "id[int]\n",
      "name[string] is a Primary Key\n",
      "age[int]\n",
      "salary[float]\n",
      "isActive[boolean]\n"
     ]
    }
   ],
   "source": [
    "create warehouse1::db1::schema1::employee(id [int], name [string] [primarykey], age [int], salary [float], isActive [boolean])"
   ]
  },
  {
   "cell_type": "code",
   "execution_count": 12,
   "id": "e4fca7ec-dbfe-45aa-a380-949e9631549c",
   "metadata": {},
   "outputs": [
    {
     "data": {
      "text/html": [
       "<div style='color: red;'>Error: Table not found: warehouse1::db1::schema1::table1</div>"
      ]
     },
     "metadata": {},
     "output_type": "display_data"
    }
   ],
   "source": [
    "insertrow\n",
    "[id: 1, name: 'Alice', age: 25, isActive: true] -> warehouse1::db1::schema1::table1"
   ]
  },
  {
   "cell_type": "code",
   "execution_count": 13,
   "id": "4e45132d-389c-4581-a436-220d99c4301f",
   "metadata": {},
   "outputs": [
    {
     "data": {
      "text/html": [
       "<div style='color: red;'>Error: Missing required column: salary</div>"
      ]
     },
     "metadata": {},
     "output_type": "display_data"
    }
   ],
   "source": [
    "insertrow\n",
    "[id: 1, name: 'Alice', age: 25, isActive: true] -> warehouse1::db1::schema1::employee"
   ]
  },
  {
   "cell_type": "code",
   "execution_count": 14,
   "id": "9499ff84-ea26-4c46-8e50-c4243f00657e",
   "metadata": {},
   "outputs": [
    {
     "name": "stdout",
     "output_type": "stream",
     "text": [
      "Row Added.\n",
      "(age: 25, id: 1, isActive: True, name: Alice, salary: 25000.0)"
     ]
    }
   ],
   "source": [
    "insertrow\n",
    "[id: 1, name: 'Alice', age: 25, salary: 25000.00, isActive: True] -> warehouse1::db1::schema1::employee"
   ]
  },
  {
   "cell_type": "code",
   "execution_count": 15,
   "id": "6d853eca-8511-4223-a787-de2321c74aa1",
   "metadata": {},
   "outputs": [
    {
     "data": {
      "text/html": [
       "<div style='color: red;'>Error: Type mismatch for column: isActive. Expected: boolean, Got: String</div>"
      ]
     },
     "metadata": {},
     "output_type": "display_data"
    }
   ],
   "source": [
    "insertrow\n",
    "[id: 1, name: 'Alice', age: 25, salary: 25000.00, isActive: \"True\"] -> warehouse1::db1::schema1::employee"
   ]
  },
  {
   "cell_type": "code",
   "execution_count": 16,
   "id": "1ff4a881-bbed-4c81-8039-ba9e7f6800e3",
   "metadata": {},
   "outputs": [
    {
     "data": {
      "text/html": [
       "<div style='color: red;'>Error: Duplicate primary key value for column: name = Alice</div>"
      ]
     },
     "metadata": {},
     "output_type": "display_data"
    }
   ],
   "source": [
    "insertrow\n",
    "[id: 1, name: 'Alice', age: 25, salary: 25000.00, isActive: True] -> warehouse1::db1::schema1::employee"
   ]
  },
  {
   "cell_type": "code",
   "execution_count": 17,
   "id": "fc52306e-fac5-4cf9-8098-b33ebf01b643",
   "metadata": {},
   "outputs": [
    {
     "data": {
      "text/html": [
       "<div style='color: red;'>Error: Type mismatch for column: isActive. Expected: boolean, Got: String</div>"
      ]
     },
     "metadata": {},
     "output_type": "display_data"
    }
   ],
   "source": [
    "insertrow\n",
    "[id: 1, name: 'Alice', age: 25, salary: 25000.00, isActive: 'True'] -> warehouse1::db1::schema1::employee"
   ]
  },
  {
   "cell_type": "code",
   "execution_count": 18,
   "id": "1c5e3214-de5e-404d-bd3c-78956ff4fe5b",
   "metadata": {},
   "outputs": [
    {
     "data": {
      "text/html": [
       "<div style='color: red;'>Error: Type mismatch for column: isActive. Expected: boolean, Got: String</div>"
      ]
     },
     "metadata": {},
     "output_type": "display_data"
    }
   ],
   "source": [
    "insertrow\n",
    "[id: 1, name: 'Alice', age: 25, salary: 25000.00, isActive: true] -> warehouse1::db1::schema1::employee"
   ]
  },
  {
   "cell_type": "code",
   "execution_count": 19,
   "id": "7eff1966-6858-4210-bdb2-46e657862933",
   "metadata": {},
   "outputs": [
    {
     "name": "stdout",
     "output_type": "stream",
     "text": [
      "Row Added.\n",
      "(age: 25, id: 1, isActive: True, name: Bob, salary: 25000.0)"
     ]
    }
   ],
   "source": [
    "insertrow\n",
    "[id: 1, name: \"Bob\", age: 25, salary: 25000.00, isActive: True] -> warehouse1::db1::schema1::employee"
   ]
  },
  {
   "cell_type": "code",
   "execution_count": 20,
   "id": "5f088fa9-df0e-48d4-b277-7f9def31947b",
   "metadata": {},
   "outputs": [
    {
     "name": "stdout",
     "output_type": "stream",
     "text": [
      "Number of tables: 2\n",
      "Tables:\n",
      "mywarehouse::mydatabase::myschema::mytable\n",
      "warehouse1::db1::schema1::employee\n"
     ]
    }
   ],
   "source": [
    "show_all_tables"
   ]
  },
  {
   "cell_type": "code",
   "execution_count": 21,
   "id": "dd98aa87-99c2-46b5-9f8c-1a2e1759f2c2",
   "metadata": {},
   "outputs": [
    {
     "data": {
      "text/html": [
       "<table border=\"1\" class=\"dataframe\">\n",
       "  <thead>\n",
       "    <tr style=\"text-align: right;\">\n",
       "      <th></th>\n",
       "      <th>age</th>\n",
       "      <th>id</th>\n",
       "      <th>isActive</th>\n",
       "      <th>name</th>\n",
       "      <th>salary</th>\n",
       "    </tr>\n",
       "  </thead>\n",
       "  <tbody>\n",
       "    <tr>\n",
       "      <th>0</th>\n",
       "      <td>25</td>\n",
       "      <td>1</td>\n",
       "      <td>True</td>\n",
       "      <td>Alice</td>\n",
       "      <td>25000.0</td>\n",
       "    </tr>\n",
       "    <tr>\n",
       "      <th>1</th>\n",
       "      <td>25</td>\n",
       "      <td>1</td>\n",
       "      <td>True</td>\n",
       "      <td>Bob</td>\n",
       "      <td>25000.0</td>\n",
       "    </tr>\n",
       "  </tbody>\n",
       "</table>"
      ],
      "text/plain": [
       "   age  id  isActive   name   salary\n",
       "0   25   1      True  Alice  25000.0\n",
       "1   25   1      True    Bob  25000.0"
      ]
     },
     "metadata": {},
     "output_type": "display_data"
    }
   ],
   "source": [
    "show_table\n",
    "warehouse1::db1::schema1::employee"
   ]
  },
  {
   "cell_type": "code",
   "execution_count": 22,
   "id": "50e4ad0d-b5d2-4173-b97d-1af02fb5169c",
   "metadata": {},
   "outputs": [
    {
     "data": {
      "text/html": [
       "<div style='color: red;'>Error: Table not found: mywarehouse::mydb::myschema::employee</div>"
      ]
     },
     "metadata": {},
     "output_type": "display_data"
    }
   ],
   "source": [
    "show_table\n",
    "mywarehouse::mydb::myschema::employee"
   ]
  },
  {
   "cell_type": "code",
   "execution_count": 23,
   "id": "c94b0a74-813e-4ed9-98ee-cfbf090d04a3",
   "metadata": {},
   "outputs": [
    {
     "name": "stdout",
     "output_type": "stream",
     "text": [
      "Row Added.\n",
      "(age: 22, id: 1, isActive: False, name: Chloe, salary: 15000.0)"
     ]
    }
   ],
   "source": [
    "insertrow\n",
    "[id: 1, name: \"Chloe\", age: 22, salary: 15000.00, isActive: False] -> warehouse1::db1::schema1::employee"
   ]
  },
  {
   "cell_type": "code",
   "execution_count": 24,
   "id": "e0bf1822-a091-4e62-85c9-345f1106851d",
   "metadata": {},
   "outputs": [
    {
     "data": {
      "text/html": [
       "<table border=\"1\" class=\"dataframe\">\n",
       "  <thead>\n",
       "    <tr style=\"text-align: right;\">\n",
       "      <th></th>\n",
       "      <th>age</th>\n",
       "      <th>id</th>\n",
       "      <th>isActive</th>\n",
       "      <th>name</th>\n",
       "      <th>salary</th>\n",
       "    </tr>\n",
       "  </thead>\n",
       "  <tbody>\n",
       "    <tr>\n",
       "      <th>0</th>\n",
       "      <td>25</td>\n",
       "      <td>1</td>\n",
       "      <td>True</td>\n",
       "      <td>Alice</td>\n",
       "      <td>25000.0</td>\n",
       "    </tr>\n",
       "    <tr>\n",
       "      <th>1</th>\n",
       "      <td>25</td>\n",
       "      <td>1</td>\n",
       "      <td>True</td>\n",
       "      <td>Bob</td>\n",
       "      <td>25000.0</td>\n",
       "    </tr>\n",
       "    <tr>\n",
       "      <th>2</th>\n",
       "      <td>22</td>\n",
       "      <td>1</td>\n",
       "      <td>False</td>\n",
       "      <td>Chloe</td>\n",
       "      <td>15000.0</td>\n",
       "    </tr>\n",
       "  </tbody>\n",
       "</table>"
      ],
      "text/plain": [
       "   age  id  isActive   name   salary\n",
       "0   25   1      True  Alice  25000.0\n",
       "1   25   1      True    Bob  25000.0\n",
       "2   22   1     False  Chloe  15000.0"
      ]
     },
     "metadata": {},
     "output_type": "display_data"
    }
   ],
   "source": [
    "show_table\n",
    "warehouse1::db1::schema1::employee"
   ]
  },
  {
   "cell_type": "code",
   "execution_count": 25,
   "id": "02b2408a-e35e-4be7-86c0-8b6c7e962feb",
   "metadata": {},
   "outputs": [
    {
     "name": "stdout",
     "output_type": "stream",
     "text": [
      "Row deleted successfully:\n",
      "(age: 25, id: 1, isActive: True, name: Alice, salary: 25000.0)"
     ]
    }
   ],
   "source": [
    "delete_row\n",
    "warehouse1::db1::schema1::employee::0"
   ]
  },
  {
   "cell_type": "code",
   "execution_count": 26,
   "id": "859ddbea-df09-455e-8f4c-26b1b8a79f2a",
   "metadata": {},
   "outputs": [
    {
     "data": {
      "text/html": [
       "<table border=\"1\" class=\"dataframe\">\n",
       "  <thead>\n",
       "    <tr style=\"text-align: right;\">\n",
       "      <th></th>\n",
       "      <th>age</th>\n",
       "      <th>id</th>\n",
       "      <th>isActive</th>\n",
       "      <th>name</th>\n",
       "      <th>salary</th>\n",
       "    </tr>\n",
       "  </thead>\n",
       "  <tbody>\n",
       "    <tr>\n",
       "      <th>0</th>\n",
       "      <td>25</td>\n",
       "      <td>1</td>\n",
       "      <td>True</td>\n",
       "      <td>Bob</td>\n",
       "      <td>25000.0</td>\n",
       "    </tr>\n",
       "    <tr>\n",
       "      <th>1</th>\n",
       "      <td>22</td>\n",
       "      <td>1</td>\n",
       "      <td>False</td>\n",
       "      <td>Chloe</td>\n",
       "      <td>15000.0</td>\n",
       "    </tr>\n",
       "  </tbody>\n",
       "</table>"
      ],
      "text/plain": [
       "   age  id  isActive   name   salary\n",
       "0   25   1      True    Bob  25000.0\n",
       "1   22   1     False  Chloe  15000.0"
      ]
     },
     "metadata": {},
     "output_type": "display_data"
    }
   ],
   "source": [
    "show_table\n",
    "warehouse1::db1::schema1::employee"
   ]
  },
  {
   "cell_type": "code",
   "execution_count": 27,
   "id": "e6614f0c-595e-4cdd-8245-810ac0c488c7",
   "metadata": {},
   "outputs": [
    {
     "name": "stdout",
     "output_type": "stream",
     "text": [
      "CSV loaded as table 'employee' in file: /home/shannu/Documents/CSV/employee.duckdb"
     ]
    }
   ],
   "source": [
    "load duckdb\n",
    "/home/shannu/Documents/CSV/employee.csv"
   ]
  },
  {
   "cell_type": "code",
   "execution_count": 28,
   "id": "af8af1ab-3532-47d5-94be-cd95cfbaa0fa",
   "metadata": {},
   "outputs": [
    {
     "data": {
      "text/html": [
       "<table border=\"1\" class=\"dataframe\">\n",
       "  <thead>\n",
       "    <tr style=\"text-align: right;\">\n",
       "      <th></th>\n",
       "      <th>COMMISSION_PCT</th>\n",
       "      <th>DEPARTMENT_ID</th>\n",
       "      <th>EMAIL</th>\n",
       "      <th>EMPLOYEE_ID</th>\n",
       "      <th>FIRST_NAME</th>\n",
       "      <th>HIRE_DATE</th>\n",
       "      <th>JOB_ID</th>\n",
       "      <th>LAST_NAME</th>\n",
       "      <th>MANAGER_ID</th>\n",
       "      <th>PHONE_NUMBER</th>\n",
       "      <th>SALARY</th>\n",
       "    </tr>\n",
       "  </thead>\n",
       "  <tbody>\n",
       "    <tr>\n",
       "      <th>0</th>\n",
       "      <td>0</td>\n",
       "      <td>50</td>\n",
       "      <td>DOCONNEL</td>\n",
       "      <td>198</td>\n",
       "      <td>Donald</td>\n",
       "      <td>21-JUN-07</td>\n",
       "      <td>SH_CLERK</td>\n",
       "      <td>OConnell</td>\n",
       "      <td>124</td>\n",
       "      <td>650.507.9833</td>\n",
       "      <td>2600</td>\n",
       "    </tr>\n",
       "    <tr>\n",
       "      <th>1</th>\n",
       "      <td>0</td>\n",
       "      <td>50</td>\n",
       "      <td>DGRANT</td>\n",
       "      <td>199</td>\n",
       "      <td>Douglas</td>\n",
       "      <td>13-JAN-08</td>\n",
       "      <td>SH_CLERK</td>\n",
       "      <td>Grant</td>\n",
       "      <td>124</td>\n",
       "      <td>650.507.9844</td>\n",
       "      <td>2600</td>\n",
       "    </tr>\n",
       "    <tr>\n",
       "      <th>2</th>\n",
       "      <td>0</td>\n",
       "      <td>10</td>\n",
       "      <td>JWHALEN</td>\n",
       "      <td>200</td>\n",
       "      <td>Jennifer</td>\n",
       "      <td>17-SEP-03</td>\n",
       "      <td>AD_ASST</td>\n",
       "      <td>Whalen</td>\n",
       "      <td>101</td>\n",
       "      <td>515.123.4444</td>\n",
       "      <td>4400</td>\n",
       "    </tr>\n",
       "    <tr>\n",
       "      <th>3</th>\n",
       "      <td>0</td>\n",
       "      <td>20</td>\n",
       "      <td>MHARTSTE</td>\n",
       "      <td>201</td>\n",
       "      <td>Michael</td>\n",
       "      <td>17-FEB-04</td>\n",
       "      <td>MK_MAN</td>\n",
       "      <td>Hartstein</td>\n",
       "      <td>100</td>\n",
       "      <td>515.123.5555</td>\n",
       "      <td>13000</td>\n",
       "    </tr>\n",
       "    <tr>\n",
       "      <th>4</th>\n",
       "      <td>0</td>\n",
       "      <td>20</td>\n",
       "      <td>PFAY</td>\n",
       "      <td>202</td>\n",
       "      <td>Pat</td>\n",
       "      <td>17-AUG-05</td>\n",
       "      <td>MK_REP</td>\n",
       "      <td>Fay</td>\n",
       "      <td>201</td>\n",
       "      <td>603.123.6666</td>\n",
       "      <td>6000</td>\n",
       "    </tr>\n",
       "    <tr>\n",
       "      <th>5</th>\n",
       "      <td>0</td>\n",
       "      <td>40</td>\n",
       "      <td>SMAVRIS</td>\n",
       "      <td>203</td>\n",
       "      <td>Susan</td>\n",
       "      <td>07-JUN-02</td>\n",
       "      <td>HR_REP</td>\n",
       "      <td>Mavris</td>\n",
       "      <td>101</td>\n",
       "      <td>515.123.7777</td>\n",
       "      <td>6500</td>\n",
       "    </tr>\n",
       "    <tr>\n",
       "      <th>6</th>\n",
       "      <td>0</td>\n",
       "      <td>70</td>\n",
       "      <td>HBAER</td>\n",
       "      <td>204</td>\n",
       "      <td>Hermann</td>\n",
       "      <td>07-JUN-02</td>\n",
       "      <td>PR_REP</td>\n",
       "      <td>Baer</td>\n",
       "      <td>101</td>\n",
       "      <td>515.123.8888</td>\n",
       "      <td>10000</td>\n",
       "    </tr>\n",
       "    <tr>\n",
       "      <th>7</th>\n",
       "      <td>0</td>\n",
       "      <td>110</td>\n",
       "      <td>SHIGGINS</td>\n",
       "      <td>205</td>\n",
       "      <td>Shelley</td>\n",
       "      <td>07-JUN-02</td>\n",
       "      <td>AC_MGR</td>\n",
       "      <td>Higgins</td>\n",
       "      <td>101</td>\n",
       "      <td>515.123.8080</td>\n",
       "      <td>12008</td>\n",
       "    </tr>\n",
       "    <tr>\n",
       "      <th>8</th>\n",
       "      <td>0</td>\n",
       "      <td>110</td>\n",
       "      <td>WGIETZ</td>\n",
       "      <td>206</td>\n",
       "      <td>William</td>\n",
       "      <td>07-JUN-02</td>\n",
       "      <td>AC_ACCOUNT</td>\n",
       "      <td>Gietz</td>\n",
       "      <td>205</td>\n",
       "      <td>515.123.8181</td>\n",
       "      <td>8300</td>\n",
       "    </tr>\n",
       "    <tr>\n",
       "      <th>9</th>\n",
       "      <td>0</td>\n",
       "      <td>90</td>\n",
       "      <td>SKING</td>\n",
       "      <td>100</td>\n",
       "      <td>Steven</td>\n",
       "      <td>17-JUN-03</td>\n",
       "      <td>AD_PRES</td>\n",
       "      <td>King</td>\n",
       "      <td>0</td>\n",
       "      <td>515.123.4567</td>\n",
       "      <td>24000</td>\n",
       "    </tr>\n",
       "  </tbody>\n",
       "</table>"
      ],
      "text/plain": [
       "   COMMISSION_PCT  DEPARTMENT_ID     EMAIL  ...  MANAGER_ID  PHONE_NUMBER SALARY\n",
       "0               0             50  DOCONNEL  ...         124  650.507.9833   2600\n",
       "1               0             50    DGRANT  ...         124  650.507.9844   2600\n",
       "2               0             10   JWHALEN  ...         101  515.123.4444   4400\n",
       "3               0             20  MHARTSTE  ...         100  515.123.5555  13000\n",
       "4               0             20      PFAY  ...         201  603.123.6666   6000\n",
       "5               0             40   SMAVRIS  ...         101  515.123.7777   6500\n",
       "6               0             70     HBAER  ...         101  515.123.8888  10000\n",
       "7               0            110  SHIGGINS  ...         101  515.123.8080  12008\n",
       "8               0            110    WGIETZ  ...         205  515.123.8181   8300\n",
       "9               0             90     SKING  ...           0  515.123.4567  24000\n",
       "\n",
       "[10 rows x 11 columns]"
      ]
     },
     "metadata": {},
     "output_type": "display_data"
    }
   ],
   "source": [
    "query duckdb /home/shannu/Documents/CSV/employee.duckdb\n",
    "SELECT * FROM employee LIMIT 10"
   ]
  },
  {
   "cell_type": "code",
   "execution_count": 29,
   "id": "7b5f955d-491f-457d-88e3-57ec8297bdda",
   "metadata": {},
   "outputs": [
    {
     "data": {
      "text/html": [
       "<table border=\"1\" class=\"dataframe\">\n",
       "  <thead>\n",
       "    <tr style=\"text-align: right;\">\n",
       "      <th></th>\n",
       "      <th>FIRST_NAME</th>\n",
       "    </tr>\n",
       "  </thead>\n",
       "  <tbody>\n",
       "    <tr>\n",
       "      <th>0</th>\n",
       "      <td>Donald</td>\n",
       "    </tr>\n",
       "    <tr>\n",
       "      <th>1</th>\n",
       "      <td>Douglas</td>\n",
       "    </tr>\n",
       "    <tr>\n",
       "      <th>2</th>\n",
       "      <td>Jennifer</td>\n",
       "    </tr>\n",
       "    <tr>\n",
       "      <th>3</th>\n",
       "      <td>Michael</td>\n",
       "    </tr>\n",
       "    <tr>\n",
       "      <th>4</th>\n",
       "      <td>Pat</td>\n",
       "    </tr>\n",
       "    <tr>\n",
       "      <th>5</th>\n",
       "      <td>Susan</td>\n",
       "    </tr>\n",
       "    <tr>\n",
       "      <th>6</th>\n",
       "      <td>Hermann</td>\n",
       "    </tr>\n",
       "    <tr>\n",
       "      <th>7</th>\n",
       "      <td>Shelley</td>\n",
       "    </tr>\n",
       "    <tr>\n",
       "      <th>8</th>\n",
       "      <td>William</td>\n",
       "    </tr>\n",
       "    <tr>\n",
       "      <th>9</th>\n",
       "      <td>Steven</td>\n",
       "    </tr>\n",
       "  </tbody>\n",
       "</table>"
      ],
      "text/plain": [
       "  FIRST_NAME\n",
       "0     Donald\n",
       "1    Douglas\n",
       "2   Jennifer\n",
       "3    Michael\n",
       "4        Pat\n",
       "5      Susan\n",
       "6    Hermann\n",
       "7    Shelley\n",
       "8    William\n",
       "9     Steven"
      ]
     },
     "metadata": {},
     "output_type": "display_data"
    }
   ],
   "source": [
    "query duckdb /home/shannu/Documents/CSV/employee.duckdb\n",
    "SELECT FIRST_NAME FROM employee LIMIT 10;"
   ]
  },
  {
   "cell_type": "code",
   "execution_count": 30,
   "id": "f975bd6a-32f6-4aac-b2f1-9e45c354fe56",
   "metadata": {},
   "outputs": [
    {
     "data": {
      "text/html": [
       "<table border=\"1\" class=\"dataframe\">\n",
       "  <thead>\n",
       "    <tr style=\"text-align: right;\">\n",
       "      <th></th>\n",
       "      <th>FIRST_NAME</th>\n",
       "    </tr>\n",
       "  </thead>\n",
       "  <tbody>\n",
       "    <tr>\n",
       "      <th>0</th>\n",
       "      <td>Donald</td>\n",
       "    </tr>\n",
       "    <tr>\n",
       "      <th>1</th>\n",
       "      <td>Douglas</td>\n",
       "    </tr>\n",
       "    <tr>\n",
       "      <th>2</th>\n",
       "      <td>Jennifer</td>\n",
       "    </tr>\n",
       "    <tr>\n",
       "      <th>3</th>\n",
       "      <td>Michael</td>\n",
       "    </tr>\n",
       "    <tr>\n",
       "      <th>4</th>\n",
       "      <td>Pat</td>\n",
       "    </tr>\n",
       "    <tr>\n",
       "      <th>5</th>\n",
       "      <td>Susan</td>\n",
       "    </tr>\n",
       "    <tr>\n",
       "      <th>6</th>\n",
       "      <td>Hermann</td>\n",
       "    </tr>\n",
       "    <tr>\n",
       "      <th>7</th>\n",
       "      <td>Shelley</td>\n",
       "    </tr>\n",
       "    <tr>\n",
       "      <th>8</th>\n",
       "      <td>William</td>\n",
       "    </tr>\n",
       "    <tr>\n",
       "      <th>9</th>\n",
       "      <td>Steven</td>\n",
       "    </tr>\n",
       "  </tbody>\n",
       "</table>"
      ],
      "text/plain": [
       "  FIRST_NAME\n",
       "0     Donald\n",
       "1    Douglas\n",
       "2   Jennifer\n",
       "3    Michael\n",
       "4        Pat\n",
       "5      Susan\n",
       "6    Hermann\n",
       "7    Shelley\n",
       "8    William\n",
       "9     Steven"
      ]
     },
     "metadata": {},
     "output_type": "display_data"
    }
   ],
   "source": [
    "query duckdb /home/shannu/Documents/CSV/employee.duckdb\n",
    "SELECT FIRST_NAME \n",
    "FROM employee LIMIT 10;"
   ]
  }
 ],
 "metadata": {
  "kernelspec": {
   "display_name": "Legend",
   "language": "pure",
   "name": "pure"
  },
  "language_info": {
   "codemirror_mode": "legend",
   "file_extension": ".lgd",
   "mimetype": "text/x-legend",
   "name": "legend"
  }
 },
 "nbformat": 4,
 "nbformat_minor": 5
}
