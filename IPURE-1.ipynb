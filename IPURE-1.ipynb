{
 "cells": [
  {
   "cell_type": "code",
   "execution_count": 1,
   "id": "5417407a-e4ae-4634-975b-9ac59e3243af",
   "metadata": {},
   "outputs": [
    {
     "name": "stdout",
     "output_type": "stream",
     "text": [
      "Hello Shanmukh! Welcome to the Pure Kernel."
     ]
    }
   ],
   "source": [
    "%start Shanmukh"
   ]
  },
  {
   "cell_type": "code",
   "execution_count": 3,
   "id": "7f5feaae-3b58-4a3a-95e4-bce6ef5d1da9",
   "metadata": {},
   "outputs": [
    {
     "name": "stdout",
     "output_type": "stream",
     "text": [
      "Current date and time: 2025-06-05 11:09:36"
     ]
    }
   ],
   "source": [
    "%date 23"
   ]
  },
  {
   "cell_type": "code",
   "execution_count": 6,
   "id": "7f88f03d-6985-4121-9200-3a2508346e19",
   "metadata": {},
   "outputs": [
    {
     "name": "stdout",
     "output_type": "stream",
     "text": [
      "WE STARTED IPURE KERNEL\n",
      "ON 5TH JUNE 2025"
     ]
    }
   ],
   "source": [
    "%%uppercase \n",
    "We started Ipure Kernel\n",
    "On 5th June 2025"
   ]
  },
  {
   "cell_type": "code",
   "execution_count": 7,
   "id": "7bba82f3-7a68-471d-9965-ce163362f92c",
   "metadata": {},
   "outputs": [
    {
     "name": "stdout",
     "output_type": "stream",
     "text": [
      "we started ipure kernel\n",
      "on 5th june 2025"
     ]
    }
   ],
   "source": [
    "%%lowercase\n",
    "We started Ipure Kernel\n",
    "On 5th June 2025"
   ]
  },
  {
   "cell_type": "code",
   "execution_count": 8,
   "id": "64eb3324-d3ce-43b8-826b-f7f7037d4a92",
   "metadata": {},
   "outputs": [
    {
     "name": "stderr",
     "output_type": "stream",
     "text": [
      "Lint Error: Code must end with a semicolon"
     ]
    }
   ],
   "source": [
    "%%lowercase We started Ipure Kernel\n",
    "On 5th June 2025"
   ]
  },
  {
   "cell_type": "code",
   "execution_count": 9,
   "id": "dde18b82-e657-419d-997b-57b7dd4bf980",
   "metadata": {},
   "outputs": [
    {
     "name": "stderr",
     "output_type": "stream",
     "text": [
      "Lint Error: Code must end with a semicolon"
     ]
    }
   ],
   "source": [
    "%%uppercase We started Ipure Kernel\n",
    "On 5th June 2025"
   ]
  },
  {
   "cell_type": "code",
   "execution_count": 10,
   "id": "cc4d1b28-9076-4928-8236-c35eaae9fc37",
   "metadata": {},
   "outputs": [
    {
     "name": "stderr",
     "output_type": "stream",
     "text": [
      "Lint Error: Code must end with a semicolon"
     ]
    }
   ],
   "source": [
    "let x = 5"
   ]
  },
  {
   "cell_type": "code",
   "execution_count": 11,
   "id": "15b306c0-6a3b-4113-9c06-a5487982fd1d",
   "metadata": {},
   "outputs": [
    {
     "name": "stdout",
     "output_type": "stream",
     "text": [
      "Could not connect to Legend Engine: Invalid URL '': No scheme supplied. Perhaps you meant https://?"
     ]
    }
   ],
   "source": [
    "let x = 5;"
   ]
  },
  {
   "cell_type": "code",
   "execution_count": null,
   "id": "83ff83da-4adf-4fe8-b0c3-a24ce242b68b",
   "metadata": {},
   "outputs": [],
   "source": []
  }
 ],
 "metadata": {
  "kernelspec": {
   "display_name": "PURE (Legend)",
   "language": "pure",
   "name": "pure"
  },
  "language_info": {
   "file_extension": ".pure",
   "mimetype": "text/x-pure",
   "name": "pure"
  }
 },
 "nbformat": 4,
 "nbformat_minor": 5
}
