{
 "cells": [
  {
   "cell_type": "code",
   "execution_count": 1,
   "id": "340dcb49-1c34-472f-9018-bf03bd6e3b2f",
   "metadata": {},
   "outputs": [
    {
     "name": "stdout",
     "output_type": "stream",
     "text": [
      "Hello Shanmukh! Welcome to the Pure Kernel."
     ]
    }
   ],
   "source": [
    "%start Shanmukh"
   ]
  },
  {
   "cell_type": "code",
   "execution_count": null,
   "id": "6bcf7be3-8dce-4acd-a688-093d6ebaa3ed",
   "metadata": {},
   "outputs": [],
   "source": [
    "%load_csv test.csv"
   ]
  },
  {
   "cell_type": "code",
   "execution_count": null,
   "id": "07678e7c-5e34-470e-b1a4-fd4cec5230fc",
   "metadata": {},
   "outputs": [],
   "source": [
    "%show_stats test.csv"
   ]
  },
  {
   "cell_type": "code",
   "execution_count": 6,
   "id": "55b09731-9098-4149-a113-c8a966f0da9f",
   "metadata": {},
   "outputs": [
    {
     "name": "stdout",
     "output_type": "stream",
     "text": [
      "Python code executed successfully.\n",
      "Output: 4\n",
      "95\n"
     ]
    }
   ],
   "source": [
    "%%python\n",
    "a = 4\n",
    "print(a)\n",
    "a = 6 + 89\n",
    "print(a)"
   ]
  },
  {
   "cell_type": "code",
   "execution_count": 3,
   "id": "8294b5fc-041c-4d17-907d-c7530c42be0e",
   "metadata": {},
   "outputs": [
    {
     "name": "stderr",
     "output_type": "stream",
     "text": [
      "Lint Error: Code must end with a semicolon"
     ]
    }
   ],
   "source": []
  },
  {
   "cell_type": "code",
   "execution_count": null,
   "id": "3159b88a-a13b-4e6c-a706-3ab7f3b30c0a",
   "metadata": {},
   "outputs": [],
   "source": []
  }
 ],
 "metadata": {
  "kernelspec": {
   "display_name": "PURE (Legend)",
   "language": "pure",
   "name": "pure"
  },
  "language_info": {
   "file_extension": ".pure",
   "mimetype": "text/x-pure",
   "name": "pure"
  }
 },
 "nbformat": 4,
 "nbformat_minor": 5
}
