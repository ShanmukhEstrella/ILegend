{
 "cells": [
  {
   "cell_type": "code",
   "execution_count": 1,
   "id": "e2e7eddd-d57a-4901-b760-27f6c6f939be",
   "metadata": {},
   "outputs": [
    {
     "data": {
      "text/html": [
       "<div style='color:  green;'>Legend Features Activated in - 3.30s\n",
       "</div>"
      ]
     },
     "metadata": {},
     "output_type": "display_data"
    }
   ],
   "source": [
    "start_legend"
   ]
  },
  {
   "cell_type": "code",
   "execution_count": 2,
   "id": "b6a86e83-8d7b-4de0-98a5-c6c06173ef7a",
   "metadata": {},
   "outputs": [
    {
     "name": "stdout",
     "output_type": "stream",
     "text": [
      "Python code executed successfully.\n",
      "------Output-----\n",
      "   0\n",
      "1\n",
      "2\n",
      "3\n"
     ]
    }
   ],
   "source": [
    "%%python\n",
    "a = 4\n",
    "for i in range(a):\n",
    "    print(i)"
   ]
  },
  {
   "cell_type": "code",
   "execution_count": 3,
   "id": "bb5a3c10-a852-4231-ba84-858c2a5cc523",
   "metadata": {},
   "outputs": [
    {
     "data": {
      "text/html": [
       "<div style='color:  green;'>Total Time Taken - 6.32s\n",
       "</div>"
      ]
     },
     "metadata": {},
     "output_type": "display_data"
    },
    {
     "name": "stdout",
     "output_type": "stream",
     "text": [
      "Dropped tables: sample__sport, sample__tree, test3"
     ]
    }
   ],
   "source": [
    "drop_all_tables local::DuckDuckConnection"
   ]
  },
  {
   "cell_type": "code",
   "execution_count": 4,
   "id": "4e4b8b7b-a5e0-49e8-8b87-9839666c124e",
   "metadata": {},
   "outputs": [
    {
     "data": {
      "text/html": [
       "<div style='color:  green;'>Total Time Taken - 7.55s\n",
       "</div>"
      ]
     },
     "metadata": {},
     "output_type": "display_data"
    },
    {
     "name": "stdout",
     "output_type": "stream",
     "text": [
      "Loaded into table: 'test3'. RowCount: 50"
     ]
    }
   ],
   "source": [
    "load /home/shannu/Documents/CSV/employee.csv local::DuckDuckConnection"
   ]
  },
  {
   "cell_type": "code",
   "execution_count": 5,
   "id": "51261438-e27f-4794-850e-da6ce55b22d8",
   "metadata": {},
   "outputs": [
    {
     "data": {
      "text/html": [
       "<div style='color:  green;'>Total Time Taken - 2.98s\n",
       "</div>"
      ]
     },
     "metadata": {},
     "output_type": "display_data"
    },
    {
     "name": "stdout",
     "output_type": "stream",
     "text": [
      "Database local::DB\n",
      "(\n",
      "  Table sample__sport\n",
      "  (\n",
      "    Athlete VARCHAR(0),\n",
      "    Age BIGINT,\n",
      "    Country VARCHAR(0),\n",
      "    Year BIGINT,\n",
      "    Date DATE,\n",
      "    Sport VARCHAR(0),\n",
      "    Gold BIGINT,\n",
      "    Silver BIGINT,\n",
      "    Bronze BIGINT\n",
      "  )\n",
      "  Table sample__tree\n",
      "  (\n",
      "    city VARCHAR(0),\n",
      "    country VARCHAR(0),\n",
      "    year BIGINT,\n",
      "    tree BIGINT\n",
      "  )\n",
      "  Table test3\n",
      "  (\n",
      "    EMPLOYEE_ID BIGINT,\n",
      "    FIRST_NAME VARCHAR(0),\n",
      "    LAST_NAME VARCHAR(0),\n",
      "    EMAIL VARCHAR(0),\n",
      "    PHONE_NUMBER VARCHAR(0),\n",
      "    HIRE_DATE VARCHAR(0),\n",
      "    JOB_ID VARCHAR(0),\n",
      "    SALARY BIGINT,\n",
      "    COMMISSION_PCT BIGINT,\n",
      "    MANAGER_ID BIGINT,\n",
      "    DEPARTMENT_ID BIGINT\n",
      "  )\n",
      ")"
     ]
    }
   ],
   "source": [
    "db local::DuckDuckConnection"
   ]
  },
  {
   "cell_type": "code",
   "execution_count": 6,
   "id": "7bd0f057-4292-4cde-82de-de8f3d7506f2",
   "metadata": {},
   "outputs": [
    {
     "name": "stdout",
     "output_type": "stream",
     "text": [
      "{\n",
      "  \"attributes\": [\n",
      "    \"EMPLOYEE_ID\",\n",
      "    \"FIRST_NAME\",\n",
      "    \"LAST_NAME\",\n",
      "    \"EMAIL\",\n",
      "    \"PHONE_NUMBER\",\n",
      "    \"HIRE_DATE\",\n",
      "    \"JOB_ID\",\n",
      "    \"SALARY\",\n",
      "    \"COMMISSION_PCT\",\n",
      "    \"MANAGER_ID\",\n",
      "    \"DEPARTMENT_ID\"\n",
      "  ]\n",
      "}"
     ]
    }
   ],
   "source": [
    "get_attributes local::DuckDuckConnection.test3"
   ]
  },
  {
   "cell_type": "code",
   "execution_count": 7,
   "id": "99424044-7c48-4c7c-a0d2-ab16563bc672",
   "metadata": {},
   "outputs": [
    {
     "data": {
      "text/html": [
       "<div style='color:  green;'>Total Time Taken - 4.52s\n",
       "</div>"
      ]
     },
     "metadata": {},
     "output_type": "display_data"
    },
    {
     "data": {
      "text/html": [
       "<div style='color: red;'>Error: Unexpected token</div>"
      ]
     },
     "metadata": {},
     "output_type": "display_data"
    }
   ],
   "source": [
    "#>{local::DuckDuckDatabase.test3}#->filter{x|$x.JOB_ID == 'FI_ACCOUNT'}->select(~[EMPLOYEE_ID, FIRST_NAME, LAST_NAME])->from(local::DuckDuckRuntime)"
   ]
  },
  {
   "cell_type": "code",
   "execution_count": 8,
   "id": "b1264258-4a61-456b-a47a-e43e95553282",
   "metadata": {},
   "outputs": [
    {
     "data": {
      "text/html": [
       "<div style='color:  green;'>Total Time Taken - 4.88s\n",
       "</div>"
      ]
     },
     "metadata": {},
     "output_type": "display_data"
    },
    {
     "data": {
      "text/html": [
       "<table border=\"1\" class=\"dataframe\">\n",
       "  <thead>\n",
       "    <tr style=\"text-align: right;\">\n",
       "      <th></th>\n",
       "      <th>EMPLOYEE_ID</th>\n",
       "    </tr>\n",
       "  </thead>\n",
       "  <tbody>\n",
       "    <tr>\n",
       "      <th>0</th>\n",
       "      <td>109</td>\n",
       "    </tr>\n",
       "    <tr>\n",
       "      <th>1</th>\n",
       "      <td>110</td>\n",
       "    </tr>\n",
       "    <tr>\n",
       "      <th>2</th>\n",
       "      <td>111</td>\n",
       "    </tr>\n",
       "    <tr>\n",
       "      <th>3</th>\n",
       "      <td>112</td>\n",
       "    </tr>\n",
       "    <tr>\n",
       "      <th>4</th>\n",
       "      <td>113</td>\n",
       "    </tr>\n",
       "  </tbody>\n",
       "</table>"
      ],
      "text/plain": [
       "   EMPLOYEE_ID\n",
       "0          109\n",
       "1          110\n",
       "2          111\n",
       "3          112\n",
       "4          113"
      ]
     },
     "metadata": {},
     "output_type": "display_data"
    }
   ],
   "source": [
    "#>{local::DuckDuckDatabase.test3}#->filter(x|$x.JOB_ID == 'FI_ACCOUNT')->select(~[EMPLOYEE_ID])->from(local::DuckDuckRuntime)"
   ]
  },
  {
   "cell_type": "code",
   "execution_count": 9,
   "id": "6efd3abf-219d-4545-b5e3-f4c5037a8f38",
   "metadata": {},
   "outputs": [
    {
     "data": {
      "text/html": [
       "<div style='color:  green;'>Macro Established in - 3.78s\n",
       "</div>"
      ]
     },
     "metadata": {},
     "output_type": "display_data"
    },
    {
     "name": "stdout",
     "output_type": "stream",
     "text": [
      "Macro 'JOB_CHECKER' defined."
     ]
    }
   ],
   "source": [
    "macro JOB_CHECKER = $x.JOB_ID == 'FI_ACCOUNT'"
   ]
  },
  {
   "cell_type": "code",
   "execution_count": 10,
   "id": "25b2f73f-aa97-4a01-98cb-9fd40966b7e9",
   "metadata": {},
   "outputs": [
    {
     "data": {
      "text/html": [
       "<div style='color:  green;'>Macro Established in - 4.15s\n",
       "</div>"
      ]
     },
     "metadata": {},
     "output_type": "display_data"
    },
    {
     "name": "stdout",
     "output_type": "stream",
     "text": [
      "Macro 'MY_TABLE' defined."
     ]
    }
   ],
   "source": [
    "macro MY_TABLE = {local::DuckDuckDatabase.test3}"
   ]
  },
  {
   "cell_type": "code",
   "execution_count": 11,
   "id": "0ad4c5f8-97c3-4976-97ec-5d6ed149950d",
   "metadata": {},
   "outputs": [
    {
     "data": {
      "text/html": [
       "<div style='color:  green;'>Macro Established in - 3.96s\n",
       "</div>"
      ]
     },
     "metadata": {},
     "output_type": "display_data"
    },
    {
     "name": "stdout",
     "output_type": "stream",
     "text": [
      "Macro 'MY_RUNTIME' defined."
     ]
    }
   ],
   "source": [
    "macro MY_RUNTIME = from(local::DuckDuckRuntime)"
   ]
  },
  {
   "cell_type": "code",
   "execution_count": 12,
   "id": "8b6c4bea-aef7-4be7-9335-363108d64491",
   "metadata": {},
   "outputs": [
    {
     "data": {
      "text/html": [
       "<div style='color:  green;'>Total Time Taken - 4.78s\n",
       "</div>"
      ]
     },
     "metadata": {},
     "output_type": "display_data"
    },
    {
     "data": {
      "text/html": [
       "<table border=\"1\" class=\"dataframe\">\n",
       "  <thead>\n",
       "    <tr style=\"text-align: right;\">\n",
       "      <th></th>\n",
       "      <th>EMPLOYEE_ID</th>\n",
       "    </tr>\n",
       "  </thead>\n",
       "  <tbody>\n",
       "    <tr>\n",
       "      <th>0</th>\n",
       "      <td>109</td>\n",
       "    </tr>\n",
       "    <tr>\n",
       "      <th>1</th>\n",
       "      <td>110</td>\n",
       "    </tr>\n",
       "    <tr>\n",
       "      <th>2</th>\n",
       "      <td>111</td>\n",
       "    </tr>\n",
       "    <tr>\n",
       "      <th>3</th>\n",
       "      <td>112</td>\n",
       "    </tr>\n",
       "    <tr>\n",
       "      <th>4</th>\n",
       "      <td>113</td>\n",
       "    </tr>\n",
       "  </tbody>\n",
       "</table>"
      ],
      "text/plain": [
       "   EMPLOYEE_ID\n",
       "0          109\n",
       "1          110\n",
       "2          111\n",
       "3          112\n",
       "4          113"
      ]
     },
     "metadata": {},
     "output_type": "display_data"
    }
   ],
   "source": [
    "#>{local::DuckDuckDatabase.test3}#->filter(x|macro{JOB_CHECKER})->select(~[EMPLOYEE_ID])->from(local::DuckDuckRuntime)"
   ]
  },
  {
   "cell_type": "code",
   "execution_count": 13,
   "id": "e928dad9-30a9-4560-99bb-12bf3ef59ff4",
   "metadata": {},
   "outputs": [
    {
     "data": {
      "text/html": [
       "<div style='color:  green;'>Total Time Taken - 4.62s\n",
       "</div>"
      ]
     },
     "metadata": {},
     "output_type": "display_data"
    },
    {
     "data": {
      "text/html": [
       "<table border=\"1\" class=\"dataframe\">\n",
       "  <thead>\n",
       "    <tr style=\"text-align: right;\">\n",
       "      <th></th>\n",
       "      <th>EMPLOYEE_ID</th>\n",
       "    </tr>\n",
       "  </thead>\n",
       "  <tbody>\n",
       "    <tr>\n",
       "      <th>0</th>\n",
       "      <td>109</td>\n",
       "    </tr>\n",
       "    <tr>\n",
       "      <th>1</th>\n",
       "      <td>110</td>\n",
       "    </tr>\n",
       "    <tr>\n",
       "      <th>2</th>\n",
       "      <td>111</td>\n",
       "    </tr>\n",
       "    <tr>\n",
       "      <th>3</th>\n",
       "      <td>112</td>\n",
       "    </tr>\n",
       "    <tr>\n",
       "      <th>4</th>\n",
       "      <td>113</td>\n",
       "    </tr>\n",
       "  </tbody>\n",
       "</table>"
      ],
      "text/plain": [
       "   EMPLOYEE_ID\n",
       "0          109\n",
       "1          110\n",
       "2          111\n",
       "3          112\n",
       "4          113"
      ]
     },
     "metadata": {},
     "output_type": "display_data"
    }
   ],
   "source": [
    "#>{local::DuckDuckDatabase.test3}#->filter(x|macro{JOB_CHECKER})->select(~[EMPLOYEE_ID])->macro{MY_RUNTIME}"
   ]
  },
  {
   "cell_type": "code",
   "execution_count": 14,
   "id": "e4bb421b-9621-4116-91cb-ca44d098868c",
   "metadata": {},
   "outputs": [
    {
     "data": {
      "text/html": [
       "<div style='color:  green;'>Total Time Taken - 4.45s\n",
       "</div>"
      ]
     },
     "metadata": {},
     "output_type": "display_data"
    },
    {
     "data": {
      "text/html": [
       "<table border=\"1\" class=\"dataframe\">\n",
       "  <thead>\n",
       "    <tr style=\"text-align: right;\">\n",
       "      <th></th>\n",
       "      <th>EMPLOYEE_ID</th>\n",
       "    </tr>\n",
       "  </thead>\n",
       "  <tbody>\n",
       "    <tr>\n",
       "      <th>0</th>\n",
       "      <td>109</td>\n",
       "    </tr>\n",
       "    <tr>\n",
       "      <th>1</th>\n",
       "      <td>110</td>\n",
       "    </tr>\n",
       "    <tr>\n",
       "      <th>2</th>\n",
       "      <td>111</td>\n",
       "    </tr>\n",
       "    <tr>\n",
       "      <th>3</th>\n",
       "      <td>112</td>\n",
       "    </tr>\n",
       "    <tr>\n",
       "      <th>4</th>\n",
       "      <td>113</td>\n",
       "    </tr>\n",
       "  </tbody>\n",
       "</table>"
      ],
      "text/plain": [
       "   EMPLOYEE_ID\n",
       "0          109\n",
       "1          110\n",
       "2          111\n",
       "3          112\n",
       "4          113"
      ]
     },
     "metadata": {},
     "output_type": "display_data"
    }
   ],
   "source": [
    "#>macro{MY_TABLE}#->filter(x|macro{JOB_CHECKER})->select(~[EMPLOYEE_ID])->macro{MY_RUNTIME}"
   ]
  },
  {
   "cell_type": "code",
   "execution_count": 15,
   "id": "374e0ee6-4e6a-48b0-bebe-547a17f9d4a3",
   "metadata": {},
   "outputs": [
    {
     "data": {
      "text/html": [
       "<div style='color:  green;'>Macros fetched in- 4.55s\n",
       "</div>"
      ]
     },
     "metadata": {},
     "output_type": "display_data"
    },
    {
     "name": "stdout",
     "output_type": "stream",
     "text": [
      "Defined Macros:\n",
      "\n",
      "macro{MY_TABLE} = {local::DuckDuckDatabase.test3}\n",
      "\n",
      "macro{JOB_CHECKER} = $x.JOB_ID == 'FI_ACCOUNT'\n",
      "\n",
      "macro{MY_RUNTIME} = from(local::DuckDuckRuntime)\n",
      "\n"
     ]
    }
   ],
   "source": [
    "show_macros"
   ]
  },
  {
   "cell_type": "code",
   "execution_count": 16,
   "id": "b85ff216-b1c2-4151-b626-f7169ad8b8f8",
   "metadata": {},
   "outputs": [
    {
     "data": {
      "text/html": [
       "<div style='color:  green;'>Macro Established in - 3.72s\n",
       "</div>"
      ]
     },
     "metadata": {},
     "output_type": "display_data"
    },
    {
     "name": "stdout",
     "output_type": "stream",
     "text": [
      "Macro 'JOB_CHECKER' defined."
     ]
    }
   ],
   "source": [
    "macro JOB_CHECKER = $x.JOB_ID == 'FB_ACCOUNT'"
   ]
  },
  {
   "cell_type": "code",
   "execution_count": 17,
   "id": "89399352-c113-44a4-b5ef-dcc6bbcd6f44",
   "metadata": {},
   "outputs": [
    {
     "data": {
      "text/html": [
       "<div style='color:  green;'>Macros fetched in- 4.35s\n",
       "</div>"
      ]
     },
     "metadata": {},
     "output_type": "display_data"
    },
    {
     "name": "stdout",
     "output_type": "stream",
     "text": [
      "Defined Macros:\n",
      "\n",
      "macro{MY_TABLE} = {local::DuckDuckDatabase.test3}\n",
      "\n",
      "macro{JOB_CHECKER} = $x.JOB_ID == 'FB_ACCOUNT'\n",
      "\n",
      "macro{MY_RUNTIME} = from(local::DuckDuckRuntime)\n",
      "\n"
     ]
    }
   ],
   "source": [
    "show_macros"
   ]
  },
  {
   "cell_type": "code",
   "execution_count": 18,
   "id": "611c8101-03ce-413a-ace2-a5620f09ee86",
   "metadata": {},
   "outputs": [
    {
     "data": {
      "text/html": [
       "<div style='color:  green;'>Macro Established in - 3.74s\n",
       "</div>"
      ]
     },
     "metadata": {},
     "output_type": "display_data"
    },
    {
     "name": "stdout",
     "output_type": "stream",
     "text": [
      "Macro 'JOB_CHECKER' defined."
     ]
    }
   ],
   "source": [
    "macro JOB_CHECKER = $x.JOB_ID == 'FI_ACCOUNT'"
   ]
  },
  {
   "cell_type": "code",
   "execution_count": 19,
   "id": "1c9a6914-852f-4dc2-984d-2752b0481740",
   "metadata": {},
   "outputs": [
    {
     "data": {
      "text/html": [
       "<div style='color:  green;'>Macros fetched in- 4.19s\n",
       "</div>"
      ]
     },
     "metadata": {},
     "output_type": "display_data"
    },
    {
     "name": "stdout",
     "output_type": "stream",
     "text": [
      "Defined Macros:\n",
      "\n",
      "macro{MY_TABLE} = {local::DuckDuckDatabase.test3}\n",
      "\n",
      "macro{JOB_CHECKER} = $x.JOB_ID == 'FI_ACCOUNT'\n",
      "\n",
      "macro{MY_RUNTIME} = from(local::DuckDuckRuntime)\n",
      "\n"
     ]
    }
   ],
   "source": [
    "show_macros"
   ]
  },
  {
   "cell_type": "code",
   "execution_count": 20,
   "id": "e7a91cd7-b247-4397-af87-6699a7224cc0",
   "metadata": {},
   "outputs": [
    {
     "data": {
      "text/html": [
       "<div style='color:  green;'>Macros cleared in- 4.36s\n",
       "</div>"
      ]
     },
     "metadata": {},
     "output_type": "display_data"
    },
    {
     "name": "stdout",
     "output_type": "stream",
     "text": [
      "All macros cleared."
     ]
    }
   ],
   "source": [
    "clear_macros"
   ]
  },
  {
   "cell_type": "code",
   "execution_count": 21,
   "id": "9ebf5666-0f53-4432-b3d0-02b52d6e1c1d",
   "metadata": {},
   "outputs": [
    {
     "data": {
      "text/html": [
       "<div style='color:  green;'>Macros fetched in- 3.95s\n",
       "</div>"
      ]
     },
     "metadata": {},
     "output_type": "display_data"
    },
    {
     "name": "stdout",
     "output_type": "stream",
     "text": [
      "Defined Macros:\n",
      "\n"
     ]
    }
   ],
   "source": [
    "show_macros"
   ]
  },
  {
   "cell_type": "code",
   "execution_count": 23,
   "id": "af235e5f-5ab1-4790-a9c5-58f82f45f6db",
   "metadata": {},
   "outputs": [
    {
     "name": "stdout",
     "output_type": "stream",
     "text": [
      "{\n",
      "  \"tables\": [\n",
      "    \"sample__sport\",\n",
      "    \"sample__tree\",\n",
      "    \"test3\"\n",
      "  ]\n",
      "}"
     ]
    }
   ],
   "source": [
    "get_tables local::DuckDuckConnection"
   ]
  }
 ],
 "metadata": {
  "kernelspec": {
   "display_name": "Legend",
   "language": "pure",
   "name": "pure"
  },
  "language_info": {
   "codemirror_mode": "legend",
   "file_extension": ".lgd",
   "mimetype": "text/x-legend",
   "name": "legend"
  }
 },
 "nbformat": 4,
 "nbformat_minor": 5
}
