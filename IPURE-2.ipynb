{
 "cells": [
  {
   "cell_type": "code",
   "execution_count": 1,
   "id": "073e90de-62f3-49d7-acbe-24d376d29032",
   "metadata": {},
   "outputs": [
    {
     "name": "stdout",
     "output_type": "stream",
     "text": [
      "Hello Shanmukh! Welcome to the Pure Kernel."
     ]
    }
   ],
   "source": [
    "%start Shanmukh"
   ]
  },
  {
   "cell_type": "code",
   "execution_count": 2,
   "id": "3877df3e-8b6f-4c17-a84d-6d5b9c284534",
   "metadata": {},
   "outputs": [
    {
     "name": "stdout",
     "output_type": "stream",
     "text": [
      "2025-06-05 12:39:49"
     ]
    }
   ],
   "source": [
    "%date"
   ]
  },
  {
   "cell_type": "code",
   "execution_count": 3,
   "id": "9565069a-68fb-4009-8829-d2f56d015f2f",
   "metadata": {},
   "outputs": [
    {
     "name": "stdout",
     "output_type": "stream",
     "text": [
      "2025-06-05 12:39:59"
     ]
    }
   ],
   "source": [
    "%date 45"
   ]
  },
  {
   "cell_type": "code",
   "execution_count": null,
   "id": "9cf26b37-fc19-4b27-9130-c3af68da12c2",
   "metadata": {},
   "outputs": [],
   "source": []
  }
 ],
 "metadata": {
  "kernelspec": {
   "display_name": "PURE (Legend)",
   "language": "pure",
   "name": "pure"
  },
  "language_info": {
   "file_extension": ".pure",
   "mimetype": "text/x-pure",
   "name": "pure"
  }
 },
 "nbformat": 4,
 "nbformat_minor": 5
}
